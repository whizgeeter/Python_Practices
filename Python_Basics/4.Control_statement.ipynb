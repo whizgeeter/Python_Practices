{
 "cells": [
  {
   "cell_type": "code",
   "execution_count": 9,
   "id": "0e1186ed",
   "metadata": {},
   "outputs": [
    {
     "name": "stdout",
     "output_type": "stream",
     "text": [
      "what is your age? 30\n",
      "Your are 30 years old\n"
     ]
    }
   ],
   "source": [
    "user_age = int(input('what is your age? '))\n",
    "if user_age > 30:\n",
    "    print('Your are over 30 years old')\n",
    "elif user_age == 30:\n",
    "    print('Your are 30 years old')\n",
    "else:\n",
    "    print('Sorry, you do not qualify')"
   ]
  },
  {
   "cell_type": "code",
   "execution_count": 10,
   "id": "280b3356",
   "metadata": {},
   "outputs": [],
   "source": [
    "## LOGICAL OPERATOR\n",
    "# < less than\n",
    "# > greater than\n",
    "# <= less than or equal\n",
    "# >= greater than or equal\n",
    "# != not equals\n"
   ]
  },
  {
   "cell_type": "code",
   "execution_count": 14,
   "id": "e722f6de",
   "metadata": {},
   "outputs": [
    {
     "name": "stdout",
     "output_type": "stream",
     "text": [
      "Do you know your pass? secret\n",
      "correct password\n"
     ]
    }
   ],
   "source": [
    "password = input('Do you know your pass? ')\n",
    "if password != 'secret':\n",
    "    print('not correct')\n",
    "else:\n",
    "    print('correct password')\n"
   ]
  },
  {
   "cell_type": "code",
   "execution_count": 15,
   "id": "84b7f927",
   "metadata": {},
   "outputs": [],
   "source": [
    "conditn = True\n",
    "conditn = False"
   ]
  },
  {
   "cell_type": "code",
   "execution_count": 16,
   "id": "5373cb23",
   "metadata": {},
   "outputs": [
    {
     "name": "stdout",
     "output_type": "stream",
     "text": [
      "condtn match\n"
     ]
    }
   ],
   "source": [
    "if True:\n",
    "    print('condtn match')"
   ]
  },
  {
   "cell_type": "code",
   "execution_count": 17,
   "id": "2a72cffc",
   "metadata": {},
   "outputs": [
    {
     "name": "stdout",
     "output_type": "stream",
     "text": [
      "true\n"
     ]
    }
   ],
   "source": [
    "if 2 ==2 :\n",
    "    print('true')"
   ]
  },
  {
   "cell_type": "code",
   "execution_count": 18,
   "id": "9b8560f1",
   "metadata": {},
   "outputs": [],
   "source": [
    "## BOOLEAN OPERATOR\n",
    "# 'NOT' 'AND' 'OR' "
   ]
  },
  {
   "cell_type": "code",
   "execution_count": 1,
   "id": "d8b53bca",
   "metadata": {},
   "outputs": [],
   "source": [
    "## JOINING MULTIPLE LOGIC CONDTN\n",
    "# &                                                                                "
   ]
  },
  {
   "cell_type": "code",
   "execution_count": 4,
   "id": "db1f1d89",
   "metadata": {},
   "outputs": [
    {
     "name": "stdout",
     "output_type": "stream",
     "text": [
      "do you travelling ? y/ny\n",
      "ok\n",
      "do you travelling ? y/ny\n",
      "Excellent! You can win a ticket\n"
     ]
    }
   ],
   "source": [
    "# NESTED IF\n",
    "ans_a = input('do you travelling ? y/n')\n",
    "if ans_a == 'y':\n",
    "    print('ok')\n",
    "    ans_b = input('do you travelling ? y/n')\n",
    "    if ans_b == 'y':\n",
    "        print('Excellent! You can win a ticket')\n",
    "    else:\n",
    "        print('sry')\n",
    "else:\n",
    "    print('sry')"
   ]
  },
  {
   "cell_type": "code",
   "execution_count": 1,
   "id": "ad9a9a05",
   "metadata": {},
   "outputs": [],
   "source": [
    "#############################################################################################################"
   ]
  },
  {
   "cell_type": "code",
   "execution_count": null,
   "id": "5b6d7518",
   "metadata": {},
   "outputs": [],
   "source": []
  }
 ],
 "metadata": {
  "kernelspec": {
   "display_name": "Python 3 (ipykernel)",
   "language": "python",
   "name": "python3"
  },
  "language_info": {
   "codemirror_mode": {
    "name": "ipython",
    "version": 3
   },
   "file_extension": ".py",
   "mimetype": "text/x-python",
   "name": "python",
   "nbconvert_exporter": "python",
   "pygments_lexer": "ipython3",
   "version": "3.9.7"
  }
 },
 "nbformat": 4,
 "nbformat_minor": 5
}
