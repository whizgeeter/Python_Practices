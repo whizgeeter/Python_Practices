{
 "cells": [
  {
   "cell_type": "code",
   "execution_count": 1,
   "id": "51bd3455",
   "metadata": {},
   "outputs": [
    {
     "name": "stdout",
     "output_type": "stream",
     "text": [
      "Hello,World\n"
     ]
    }
   ],
   "source": [
    "print('Hello,World')"
   ]
  },
  {
   "cell_type": "code",
   "execution_count": 2,
   "id": "216e72ea",
   "metadata": {},
   "outputs": [
    {
     "ename": "NameError",
     "evalue": "name 'prnt' is not defined",
     "output_type": "error",
     "traceback": [
      "\u001b[1;31m---------------------------------------------------------------------------\u001b[0m",
      "\u001b[1;31mNameError\u001b[0m                                 Traceback (most recent call last)",
      "\u001b[1;32m~\\AppData\\Local\\Temp/ipykernel_9716/279359784.py\u001b[0m in \u001b[0;36m<module>\u001b[1;34m\u001b[0m\n\u001b[1;32m----> 1\u001b[1;33m \u001b[0mprnt\u001b[0m\u001b[1;33m(\u001b[0m\u001b[1;34m'Hello'\u001b[0m\u001b[1;33m)\u001b[0m\u001b[1;33m\u001b[0m\u001b[1;33m\u001b[0m\u001b[0m\n\u001b[0m",
      "\u001b[1;31mNameError\u001b[0m: name 'prnt' is not defined"
     ]
    }
   ],
   "source": [
    "prnt('Hello')"
   ]
  },
  {
   "cell_type": "code",
   "execution_count": 5,
   "id": "f0639061",
   "metadata": {},
   "outputs": [
    {
     "ename": "SyntaxError",
     "evalue": "invalid syntax (Temp/ipykernel_9716/2014209020.py, line 1)",
     "output_type": "error",
     "traceback": [
      "\u001b[1;36m  File \u001b[1;32m\"C:\\Users\\Dell\\AppData\\Local\\Temp/ipykernel_9716/2014209020.py\"\u001b[1;36m, line \u001b[1;32m1\u001b[0m\n\u001b[1;33m    print(\"I am using python    \") print(\"I am using python\")\u001b[0m\n\u001b[1;37m                                   ^\u001b[0m\n\u001b[1;31mSyntaxError\u001b[0m\u001b[1;31m:\u001b[0m invalid syntax\n"
     ]
    }
   ],
   "source": [
    "print(\"I am using python    \") print(\"I am using python\")"
   ]
  },
  {
   "cell_type": "code",
   "execution_count": 7,
   "id": "9f13ffe3",
   "metadata": {},
   "outputs": [
    {
     "name": "stdout",
     "output_type": "stream",
     "text": [
      "'I am using python    \n",
      "I am using python\n"
     ]
    }
   ],
   "source": [
    "print(\"\\'I am using python    \") \n",
    "print(\"I am using python\")"
   ]
  },
  {
   "cell_type": "code",
   "execution_count": 9,
   "id": "84162e95",
   "metadata": {},
   "outputs": [
    {
     "name": "stdout",
     "output_type": "stream",
     "text": [
      "'I am using python I am using python\n"
     ]
    }
   ],
   "source": [
    "print(\"\\'I am using python\",\"I am using python\")"
   ]
  },
  {
   "cell_type": "code",
   "execution_count": 11,
   "id": "beb89bc9",
   "metadata": {},
   "outputs": [
    {
     "name": "stdout",
     "output_type": "stream",
     "text": [
      "'I am using python\n",
      " I am using python\n"
     ]
    }
   ],
   "source": [
    "print(\"\\'I am using python\\n\",\"I am using python\")"
   ]
  },
  {
   "cell_type": "code",
   "execution_count": 13,
   "id": "17e8e8d1",
   "metadata": {},
   "outputs": [
    {
     "name": "stdout",
     "output_type": "stream",
     "text": [
      "Hello , freind!\n",
      "Hi , freind!\n"
     ]
    }
   ],
   "source": [
    "## VARIABLE\n",
    "greeting = 'Hello , freind!'\n",
    "print(greeting)\n",
    "greeting = 'Hi , freind!'\n",
    "print(greeting)"
   ]
  },
  {
   "cell_type": "code",
   "execution_count": 14,
   "id": "997550f5",
   "metadata": {},
   "outputs": [
    {
     "ename": "NameError",
     "evalue": "name 'new_greet' is not defined",
     "output_type": "error",
     "traceback": [
      "\u001b[1;31m---------------------------------------------------------------------------\u001b[0m",
      "\u001b[1;31mNameError\u001b[0m                                 Traceback (most recent call last)",
      "\u001b[1;32m~\\AppData\\Local\\Temp/ipykernel_9716/3907708846.py\u001b[0m in \u001b[0;36m<module>\u001b[1;34m\u001b[0m\n\u001b[1;32m----> 1\u001b[1;33m \u001b[0mprint\u001b[0m\u001b[1;33m(\u001b[0m\u001b[0mnew_greet\u001b[0m\u001b[1;33m)\u001b[0m\u001b[1;33m\u001b[0m\u001b[1;33m\u001b[0m\u001b[0m\n\u001b[0m\u001b[0;32m      2\u001b[0m \u001b[0mnew_greet\u001b[0m \u001b[1;33m=\u001b[0m \u001b[1;34m'chess'\u001b[0m\u001b[1;33m\u001b[0m\u001b[1;33m\u001b[0m\u001b[0m\n",
      "\u001b[1;31mNameError\u001b[0m: name 'new_greet' is not defined"
     ]
    }
   ],
   "source": [
    "print(new_greet)\n",
    "new_greet = 'chess'"
   ]
  },
  {
   "cell_type": "code",
   "execution_count": 15,
   "id": "96f6aff1",
   "metadata": {},
   "outputs": [
    {
     "ename": "SyntaxError",
     "evalue": "invalid syntax (Temp/ipykernel_9716/3056905888.py, line 1)",
     "output_type": "error",
     "traceback": [
      "\u001b[1;36m  File \u001b[1;32m\"C:\\Users\\Dell\\AppData\\Local\\Temp/ipykernel_9716/3056905888.py\"\u001b[1;36m, line \u001b[1;32m1\u001b[0m\n\u001b[1;33m    from = 'as\u001b[0m\n\u001b[1;37m         ^\u001b[0m\n\u001b[1;31mSyntaxError\u001b[0m\u001b[1;31m:\u001b[0m invalid syntax\n"
     ]
    }
   ],
   "source": [
    "from = 'as\n",
    "'"
   ]
  },
  {
   "cell_type": "code",
   "execution_count": 16,
   "id": "cfafe7c8",
   "metadata": {},
   "outputs": [],
   "source": [
    "#DATA TYPES\n",
    "greet = \"hello\""
   ]
  },
  {
   "cell_type": "code",
   "execution_count": 17,
   "id": "7c87d509",
   "metadata": {},
   "outputs": [],
   "source": [
    "age = 35 #integer\n",
    "speed = 4.5 #float\n",
    "speed = 4. # float"
   ]
  },
  {
   "cell_type": "code",
   "execution_count": 18,
   "id": "b9eb98a5",
   "metadata": {},
   "outputs": [],
   "source": [
    "am_i_ugly = True"
   ]
  },
  {
   "cell_type": "code",
   "execution_count": 19,
   "id": "d9fec5e3",
   "metadata": {},
   "outputs": [
    {
     "ename": "NameError",
     "evalue": "name 'true' is not defined",
     "output_type": "error",
     "traceback": [
      "\u001b[1;31m---------------------------------------------------------------------------\u001b[0m",
      "\u001b[1;31mNameError\u001b[0m                                 Traceback (most recent call last)",
      "\u001b[1;32m~\\AppData\\Local\\Temp/ipykernel_9716/1923676773.py\u001b[0m in \u001b[0;36m<module>\u001b[1;34m\u001b[0m\n\u001b[1;32m----> 1\u001b[1;33m \u001b[0mam_i_ugly\u001b[0m \u001b[1;33m=\u001b[0m \u001b[0mtrue\u001b[0m\u001b[1;33m\u001b[0m\u001b[1;33m\u001b[0m\u001b[0m\n\u001b[0m",
      "\u001b[1;31mNameError\u001b[0m: name 'true' is not defined"
     ]
    }
   ],
   "source": [
    "am_i_ugly = true"
   ]
  },
  {
   "cell_type": "code",
   "execution_count": 21,
   "id": "dce3a827",
   "metadata": {},
   "outputs": [
    {
     "data": {
      "text/plain": [
       "12000000"
      ]
     },
     "execution_count": 21,
     "metadata": {},
     "output_type": "execute_result"
    }
   ],
   "source": [
    "# comment\n",
    "12000000\n",
    "12_000_000"
   ]
  },
  {
   "cell_type": "code",
   "execution_count": 23,
   "id": "cfada89b",
   "metadata": {},
   "outputs": [],
   "source": [
    "#scientific notation\n",
    "# 3e4 = 3E4 = 3 * 10000 = 30000\n",
    "# 3e-4 = 3E-4 = 3 * 1/10000 = 0.0003"
   ]
  },
  {
   "cell_type": "code",
   "execution_count": 24,
   "id": "68954221",
   "metadata": {},
   "outputs": [
    {
     "name": "stdout",
     "output_type": "stream",
     "text": [
      "0.0003\n"
     ]
    }
   ],
   "source": [
    "print(0.0003)"
   ]
  },
  {
   "cell_type": "code",
   "execution_count": 25,
   "id": "637648e3",
   "metadata": {},
   "outputs": [
    {
     "name": "stdout",
     "output_type": "stream",
     "text": [
      "3e-22\n"
     ]
    }
   ],
   "source": [
    "print(0.0000000000000000000003)"
   ]
  },
  {
   "cell_type": "code",
   "execution_count": 27,
   "id": "ef0563ca",
   "metadata": {},
   "outputs": [
    {
     "name": "stdout",
     "output_type": "stream",
     "text": [
      "83\n"
     ]
    }
   ],
   "source": [
    "#octal number\n",
    "# start with 0o or 0O\n",
    "print(0O123)"
   ]
  },
  {
   "cell_type": "code",
   "execution_count": 29,
   "id": "c09690fa",
   "metadata": {},
   "outputs": [
    {
     "name": "stdout",
     "output_type": "stream",
     "text": [
      "291\n"
     ]
    }
   ],
   "source": [
    "#hexadecimal\n",
    "# start with 0x or 0X\n",
    "print(0X123)"
   ]
  },
  {
   "cell_type": "code",
   "execution_count": 31,
   "id": "74f9cd02",
   "metadata": {},
   "outputs": [
    {
     "data": {
      "text/plain": [
       "7"
      ]
     },
     "execution_count": 31,
     "metadata": {},
     "output_type": "execute_result"
    }
   ],
   "source": [
    "# OPERATORS ::::::::::::::::::\n",
    "3 + 4"
   ]
  },
  {
   "cell_type": "code",
   "execution_count": 32,
   "id": "f9980a6b",
   "metadata": {},
   "outputs": [
    {
     "data": {
      "text/plain": [
       "3"
      ]
     },
     "execution_count": 32,
     "metadata": {},
     "output_type": "execute_result"
    }
   ],
   "source": [
    "5 - 2"
   ]
  },
  {
   "cell_type": "code",
   "execution_count": 33,
   "id": "5344ee06",
   "metadata": {},
   "outputs": [
    {
     "data": {
      "text/plain": [
       "15"
      ]
     },
     "execution_count": 33,
     "metadata": {},
     "output_type": "execute_result"
    }
   ],
   "source": [
    "3 * 5"
   ]
  },
  {
   "cell_type": "code",
   "execution_count": 34,
   "id": "1ce3f726",
   "metadata": {},
   "outputs": [],
   "source": [
    "#other\n",
    "# / , //, %\n"
   ]
  },
  {
   "cell_type": "code",
   "execution_count": 1,
   "id": "19b8c2f8",
   "metadata": {},
   "outputs": [
    {
     "data": {
      "text/plain": [
       "3.0"
      ]
     },
     "execution_count": 1,
     "metadata": {},
     "output_type": "execute_result"
    }
   ],
   "source": [
    "#division (always a float no.)\n",
    "6/2"
   ]
  },
  {
   "cell_type": "code",
   "execution_count": 2,
   "id": "98d8b95b",
   "metadata": {},
   "outputs": [
    {
     "data": {
      "text/plain": [
       "3.5"
      ]
     },
     "execution_count": 2,
     "metadata": {},
     "output_type": "execute_result"
    }
   ],
   "source": [
    "7/2"
   ]
  },
  {
   "cell_type": "code",
   "execution_count": 3,
   "id": "6a789e3d",
   "metadata": {},
   "outputs": [
    {
     "data": {
      "text/plain": [
       "3"
      ]
     },
     "execution_count": 3,
     "metadata": {},
     "output_type": "execute_result"
    }
   ],
   "source": [
    "#integer division\n",
    "6//2"
   ]
  },
  {
   "cell_type": "code",
   "execution_count": 4,
   "id": "f4cb61ec",
   "metadata": {},
   "outputs": [
    {
     "data": {
      "text/plain": [
       "3"
      ]
     },
     "execution_count": 4,
     "metadata": {},
     "output_type": "execute_result"
    }
   ],
   "source": [
    "7//2"
   ]
  },
  {
   "cell_type": "code",
   "execution_count": 8,
   "id": "dcefefb6",
   "metadata": {},
   "outputs": [
    {
     "data": {
      "text/plain": [
       "1"
      ]
     },
     "execution_count": 8,
     "metadata": {},
     "output_type": "execute_result"
    }
   ],
   "source": [
    "#modular division(remainder)\n",
    "7 % 2"
   ]
  },
  {
   "cell_type": "code",
   "execution_count": 9,
   "id": "7e4d59b5",
   "metadata": {},
   "outputs": [
    {
     "data": {
      "text/plain": [
       "8"
      ]
     },
     "execution_count": 9,
     "metadata": {},
     "output_type": "execute_result"
    }
   ],
   "source": [
    "#power operator\n",
    "2 ** 3"
   ]
  },
  {
   "cell_type": "code",
   "execution_count": 11,
   "id": "8bef126e",
   "metadata": {},
   "outputs": [
    {
     "data": {
      "text/plain": [
       "5"
      ]
     },
     "execution_count": 11,
     "metadata": {},
     "output_type": "execute_result"
    }
   ],
   "source": [
    "2 + 3\n"
   ]
  },
  {
   "cell_type": "code",
   "execution_count": 12,
   "id": "70ca1557",
   "metadata": {},
   "outputs": [
    {
     "data": {
      "text/plain": [
       "5.0"
      ]
     },
     "execution_count": 12,
     "metadata": {},
     "output_type": "execute_result"
    }
   ],
   "source": [
    "2 + 3.0"
   ]
  },
  {
   "cell_type": "code",
   "execution_count": 13,
   "id": "f9db6c0c",
   "metadata": {},
   "outputs": [
    {
     "data": {
      "text/plain": [
       "5.0"
      ]
     },
     "execution_count": 13,
     "metadata": {},
     "output_type": "execute_result"
    }
   ],
   "source": [
    "2.0 + 3.0"
   ]
  },
  {
   "cell_type": "code",
   "execution_count": 14,
   "id": "d5dccc45",
   "metadata": {},
   "outputs": [
    {
     "name": "stdout",
     "output_type": "stream",
     "text": [
      "20\n"
     ]
    }
   ],
   "source": [
    "## REASSIGNING VALUE\n",
    "AGE = 20\n",
    "print(AGE)"
   ]
  },
  {
   "cell_type": "code",
   "execution_count": 15,
   "id": "9bcef492",
   "metadata": {},
   "outputs": [
    {
     "name": "stdout",
     "output_type": "stream",
     "text": [
      "25\n"
     ]
    }
   ],
   "source": [
    "age = 20\n",
    "new_age = age + 5\n",
    "print(new_age)"
   ]
  },
  {
   "cell_type": "code",
   "execution_count": 16,
   "id": "20e2d5a3",
   "metadata": {},
   "outputs": [
    {
     "name": "stdout",
     "output_type": "stream",
     "text": [
      "25\n"
     ]
    }
   ],
   "source": [
    "age = 20\n",
    "age += 5\n",
    "print(age)"
   ]
  },
  {
   "cell_type": "code",
   "execution_count": 17,
   "id": "7ffaba62",
   "metadata": {},
   "outputs": [
    {
     "name": "stdout",
     "output_type": "stream",
     "text": [
      "20\n"
     ]
    }
   ],
   "source": [
    "age -= 5\n",
    "print(age)"
   ]
  },
  {
   "cell_type": "code",
   "execution_count": 18,
   "id": "1a753122",
   "metadata": {},
   "outputs": [
    {
     "name": "stdout",
     "output_type": "stream",
     "text": [
      "helloharshit\n"
     ]
    }
   ],
   "source": [
    "# string concatination\n",
    "text = 'hello' + 'harshit'\n",
    "print(text)"
   ]
  },
  {
   "cell_type": "code",
   "execution_count": 20,
   "id": "d756dc2b",
   "metadata": {},
   "outputs": [
    {
     "name": "stdout",
     "output_type": "stream",
     "text": [
      "ababababab\n"
     ]
    }
   ],
   "source": [
    "print('ab' * 5)"
   ]
  },
  {
   "cell_type": "code",
   "execution_count": 21,
   "id": "0f6acc6d",
   "metadata": {},
   "outputs": [
    {
     "name": "stdout",
     "output_type": "stream",
     "text": [
      "23hello\n"
     ]
    }
   ],
   "source": [
    "print ('23' + 'hello')"
   ]
  },
  {
   "cell_type": "code",
   "execution_count": 22,
   "id": "5ccc0c24",
   "metadata": {},
   "outputs": [
    {
     "name": "stdout",
     "output_type": "stream",
     "text": [
      "what's your name\n",
      "harshit\n",
      "hello harshit\n"
     ]
    }
   ],
   "source": [
    "## INPUT FUNC\n",
    "print(\"what's your name\")\n",
    "username = input()\n",
    "print( \"hello\",username)"
   ]
  },
  {
   "cell_type": "code",
   "execution_count": 23,
   "id": "c4abd93c",
   "metadata": {},
   "outputs": [
    {
     "name": "stdout",
     "output_type": "stream",
     "text": [
      "what's your nameharshit\n",
      "hello harshit\n"
     ]
    }
   ],
   "source": [
    "username = input(\"what's your name\")\n",
    "print(\"hello\",username)"
   ]
  },
  {
   "cell_type": "code",
   "execution_count": 24,
   "id": "53710678",
   "metadata": {},
   "outputs": [],
   "source": [
    "# print causes some effect only\n",
    "# while input cause an effect and return some value also"
   ]
  },
  {
   "cell_type": "code",
   "execution_count": 25,
   "id": "17a01083",
   "metadata": {},
   "outputs": [],
   "source": [
    "## TECHNICAL THEORY\n",
    "#COMPUTER PROGRAM = COLLECTION OF INSTRUCTION\n",
    "#INSTRUCTION LIST = SET OF INSTRUCTION COMPUTER CAN EXECUTE AND WRITTEN IN FORM OF MACHINE CODE"
   ]
  },
  {
   "cell_type": "code",
   "execution_count": 26,
   "id": "5eb86587",
   "metadata": {},
   "outputs": [],
   "source": [
    "#source code to mc code is done by compilation and interpretation\n",
    "#Compile code = compile source code and can run executable file then\n",
    "#interpretation = innterpretaion happens on the fly means interpret source code every time you run program\n",
    "#everyone need the interpreter to run"
   ]
  },
  {
   "cell_type": "code",
   "execution_count": null,
   "id": "587f8511",
   "metadata": {},
   "outputs": [],
   "source": [
    "# python is scripting language bcoz of interpretation \n",
    "# python execute instruction from top to bottom\n",
    "# throws errors based on checking : lexis , syntax , semantics.\n",
    "# lexis : certain fixed keyword constitutes the lexis\n",
    "# syntax : rules of cunstructing python instructions eg: you know to use input function\n",
    "# semantics: \n"
   ]
  },
  {
   "cell_type": "code",
   "execution_count": 1,
   "id": "4171985d",
   "metadata": {},
   "outputs": [],
   "source": [
    "#############################################################################################################"
   ]
  },
  {
   "cell_type": "code",
   "execution_count": null,
   "id": "17ee8809",
   "metadata": {},
   "outputs": [],
   "source": []
  }
 ],
 "metadata": {
  "kernelspec": {
   "display_name": "Python 3 (ipykernel)",
   "language": "python",
   "name": "python3"
  },
  "language_info": {
   "codemirror_mode": {
    "name": "ipython",
    "version": 3
   },
   "file_extension": ".py",
   "mimetype": "text/x-python",
   "name": "python",
   "nbconvert_exporter": "python",
   "pygments_lexer": "ipython3",
   "version": "3.9.7"
  }
 },
 "nbformat": 4,
 "nbformat_minor": 5
}
