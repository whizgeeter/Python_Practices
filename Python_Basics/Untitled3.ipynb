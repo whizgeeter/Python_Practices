{
 "cells": [
  {
   "cell_type": "code",
   "execution_count": 5,
   "id": "72052d2b",
   "metadata": {},
   "outputs": [
    {
     "name": "stdout",
     "output_type": "stream",
     "text": [
      "enter your 1st no: 1\n",
      "enter your 1st no: 2\n",
      "enter your 1st no: 3\n"
     ]
    }
   ],
   "source": [
    "\n",
    "\n",
    "while a != b:\n",
    "    a = input(\"enter your 1st no: \")\n",
    "# if a == b:\n",
    "#     print(\"true\")\n",
    "# else:\n",
    "#     print(\"false\")"
   ]
  },
  {
   "cell_type": "code",
   "execution_count": null,
   "id": "e3b584cc",
   "metadata": {},
   "outputs": [],
   "source": [
    "a = int(input(\"enter your 1st no: \"))\n",
    "b = int(input(\"enter your 1st no: \"))\n",
    "# a = 5\n",
    "# b = 6\n",
    "c = a + b\n",
    "print(c)"
   ]
  },
  {
   "cell_type": "code",
   "execution_count": null,
   "id": "5128abc0",
   "metadata": {},
   "outputs": [],
   "source": []
  }
 ],
 "metadata": {
  "kernelspec": {
   "display_name": "Python 3 (ipykernel)",
   "language": "python",
   "name": "python3"
  },
  "language_info": {
   "codemirror_mode": {
    "name": "ipython",
    "version": 3
   },
   "file_extension": ".py",
   "mimetype": "text/x-python",
   "name": "python",
   "nbconvert_exporter": "python",
   "pygments_lexer": "ipython3",
   "version": "3.9.7"
  }
 },
 "nbformat": 4,
 "nbformat_minor": 5
}
