{
 "cells": [
  {
   "cell_type": "code",
   "execution_count": 1,
   "id": "81d4eb7b",
   "metadata": {},
   "outputs": [],
   "source": [
    "## FUNCTION : well isolated piece of code\n",
    "# FUNCTION = cause + effect\n",
    "def greet():\n",
    "    print('Hello! dear')"
   ]
  },
  {
   "cell_type": "code",
   "execution_count": 2,
   "id": "3c16a159",
   "metadata": {},
   "outputs": [
    {
     "name": "stdout",
     "output_type": "stream",
     "text": [
      "Hello! dear\n"
     ]
    }
   ],
   "source": [
    "## function call\n",
    "greet()"
   ]
  },
  {
   "cell_type": "code",
   "execution_count": 9,
   "id": "8923975c",
   "metadata": {},
   "outputs": [
    {
     "name": "stdout",
     "output_type": "stream",
     "text": [
      "5.0\n"
     ]
    }
   ],
   "source": [
    "input_num = [5.0, 3.5, 6.9, 4.6]\n",
    "\n",
    "def get_avg(input_num): ## parameter\n",
    "    sum = 0.0\n",
    "    for num in input_num:\n",
    "        sum += num\n",
    "    avg = sum / len(input_num)\n",
    "    print(avg)\n",
    "    \n",
    "get_avg([5.0, 3.5, 6.9, 4.6]) ## argument\n",
    "# print(avg)"
   ]
  },
  {
   "cell_type": "code",
   "execution_count": 10,
   "id": "e7535715",
   "metadata": {},
   "outputs": [
    {
     "ename": "TypeError",
     "evalue": "'int' object is not iterable",
     "output_type": "error",
     "traceback": [
      "\u001b[1;31m---------------------------------------------------------------------------\u001b[0m",
      "\u001b[1;31mTypeError\u001b[0m                                 Traceback (most recent call last)",
      "\u001b[1;32m~\\AppData\\Local\\Temp/ipykernel_9380/293429789.py\u001b[0m in \u001b[0;36m<module>\u001b[1;34m\u001b[0m\n\u001b[1;32m----> 1\u001b[1;33m \u001b[0mget_avg\u001b[0m\u001b[1;33m(\u001b[0m\u001b[1;36m5\u001b[0m\u001b[1;33m)\u001b[0m\u001b[1;33m\u001b[0m\u001b[1;33m\u001b[0m\u001b[0m\n\u001b[0m",
      "\u001b[1;32m~\\AppData\\Local\\Temp/ipykernel_9380/3728405609.py\u001b[0m in \u001b[0;36mget_avg\u001b[1;34m(input_num)\u001b[0m\n\u001b[0;32m      3\u001b[0m \u001b[1;32mdef\u001b[0m \u001b[0mget_avg\u001b[0m\u001b[1;33m(\u001b[0m\u001b[0minput_num\u001b[0m\u001b[1;33m)\u001b[0m\u001b[1;33m:\u001b[0m\u001b[1;33m\u001b[0m\u001b[1;33m\u001b[0m\u001b[0m\n\u001b[0;32m      4\u001b[0m     \u001b[0msum\u001b[0m \u001b[1;33m=\u001b[0m \u001b[1;36m0.0\u001b[0m\u001b[1;33m\u001b[0m\u001b[1;33m\u001b[0m\u001b[0m\n\u001b[1;32m----> 5\u001b[1;33m     \u001b[1;32mfor\u001b[0m \u001b[0mnum\u001b[0m \u001b[1;32min\u001b[0m \u001b[0minput_num\u001b[0m\u001b[1;33m:\u001b[0m\u001b[1;33m\u001b[0m\u001b[1;33m\u001b[0m\u001b[0m\n\u001b[0m\u001b[0;32m      6\u001b[0m         \u001b[0msum\u001b[0m \u001b[1;33m+=\u001b[0m \u001b[0mnum\u001b[0m\u001b[1;33m\u001b[0m\u001b[1;33m\u001b[0m\u001b[0m\n\u001b[0;32m      7\u001b[0m     \u001b[0mavg\u001b[0m \u001b[1;33m=\u001b[0m \u001b[0msum\u001b[0m \u001b[1;33m/\u001b[0m \u001b[0mlen\u001b[0m\u001b[1;33m(\u001b[0m\u001b[0minput_num\u001b[0m\u001b[1;33m)\u001b[0m\u001b[1;33m\u001b[0m\u001b[1;33m\u001b[0m\u001b[0m\n",
      "\u001b[1;31mTypeError\u001b[0m: 'int' object is not iterable"
     ]
    }
   ],
   "source": [
    "get_avg(5)"
   ]
  },
  {
   "cell_type": "code",
   "execution_count": 11,
   "id": "5a5f0e84",
   "metadata": {},
   "outputs": [
    {
     "ename": "TypeError",
     "evalue": "get_avg() missing 1 required positional argument: 'input_num'",
     "output_type": "error",
     "traceback": [
      "\u001b[1;31m---------------------------------------------------------------------------\u001b[0m",
      "\u001b[1;31mTypeError\u001b[0m                                 Traceback (most recent call last)",
      "\u001b[1;32m~\\AppData\\Local\\Temp/ipykernel_9380/965263864.py\u001b[0m in \u001b[0;36m<module>\u001b[1;34m\u001b[0m\n\u001b[1;32m----> 1\u001b[1;33m \u001b[0mget_avg\u001b[0m\u001b[1;33m(\u001b[0m\u001b[1;33m)\u001b[0m\u001b[1;33m\u001b[0m\u001b[1;33m\u001b[0m\u001b[0m\n\u001b[0m",
      "\u001b[1;31mTypeError\u001b[0m: get_avg() missing 1 required positional argument: 'input_num'"
     ]
    }
   ],
   "source": [
    "get_avg()"
   ]
  },
  {
   "cell_type": "code",
   "execution_count": 12,
   "id": "fb8dc26b",
   "metadata": {},
   "outputs": [],
   "source": [
    "def print_letter(text, letter):\n",
    "    counter = 0\n",
    "    for char in text:\n",
    "        if char == letter:\n",
    "            counter += 1\n",
    "    print('Number of', letter, 'is', counter)"
   ]
  },
  {
   "cell_type": "code",
   "execution_count": 13,
   "id": "c53f26fd",
   "metadata": {},
   "outputs": [
    {
     "name": "stdout",
     "output_type": "stream",
     "text": [
      "Number of e is 2\n"
     ]
    }
   ],
   "source": [
    "print_letter('Welcome','e')"
   ]
  },
  {
   "cell_type": "code",
   "execution_count": 17,
   "id": "ca37c687",
   "metadata": {},
   "outputs": [
    {
     "name": "stdout",
     "output_type": "stream",
     "text": [
      "HELLO How are you?."
     ]
    }
   ],
   "source": [
    "## DEFAULT PARAMETER\n",
    "print('HELLO', 'How are you?', end = '.' , sep = '-')"
   ]
  },
  {
   "cell_type": "code",
   "execution_count": 18,
   "id": "84dcee13",
   "metadata": {},
   "outputs": [],
   "source": [
    "# end = has default value of new line char\n",
    "# sep = argument has default value of a whitespace character"
   ]
  },
  {
   "cell_type": "code",
   "execution_count": 19,
   "id": "c69ee296",
   "metadata": {},
   "outputs": [],
   "source": [
    "## keyword arg\n",
    "def print_letter(text, letter='a'):\n",
    "    counter = 0\n",
    "    for char in text:\n",
    "        if char == letter:\n",
    "            counter += 1\n",
    "    print('Number of', letter, 'is', counter)"
   ]
  },
  {
   "cell_type": "code",
   "execution_count": 21,
   "id": "857e4a23",
   "metadata": {},
   "outputs": [
    {
     "name": "stdout",
     "output_type": "stream",
     "text": [
      "Number of a is 3\n"
     ]
    }
   ],
   "source": [
    "print_letter('How many days you take?')\n"
   ]
  },
  {
   "cell_type": "code",
   "execution_count": 22,
   "id": "d2ce46c8",
   "metadata": {},
   "outputs": [
    {
     "ename": "TypeError",
     "evalue": "print_letter() missing 1 required positional argument: 'text'",
     "output_type": "error",
     "traceback": [
      "\u001b[1;31m---------------------------------------------------------------------------\u001b[0m",
      "\u001b[1;31mTypeError\u001b[0m                                 Traceback (most recent call last)",
      "\u001b[1;32m~\\AppData\\Local\\Temp/ipykernel_9380/3791316278.py\u001b[0m in \u001b[0;36m<module>\u001b[1;34m\u001b[0m\n\u001b[1;32m----> 1\u001b[1;33m \u001b[0mprint_letter\u001b[0m\u001b[1;33m(\u001b[0m\u001b[1;33m)\u001b[0m\u001b[1;33m\u001b[0m\u001b[1;33m\u001b[0m\u001b[0m\n\u001b[0m",
      "\u001b[1;31mTypeError\u001b[0m: print_letter() missing 1 required positional argument: 'text'"
     ]
    }
   ],
   "source": [
    "print_letter()"
   ]
  },
  {
   "cell_type": "code",
   "execution_count": 23,
   "id": "9c0b91c2",
   "metadata": {},
   "outputs": [
    {
     "name": "stdout",
     "output_type": "stream",
     "text": [
      "Surprise!\n"
     ]
    }
   ],
   "source": [
    "# NAME SCOPE\n",
    "def show_truth():\n",
    "    print(mysterious_var)\n",
    "    \n",
    "mysterious_var = 'Surprise!' ##outside funct exist\n",
    "show_truth()\n"
   ]
  },
  {
   "cell_type": "code",
   "execution_count": 24,
   "id": "d0bd6153",
   "metadata": {},
   "outputs": [
    {
     "name": "stdout",
     "output_type": "stream",
     "text": [
      "Surprise!\n",
      "Function Surprise!\n",
      "Surprise!\n"
     ]
    }
   ],
   "source": [
    "def show_truth():\n",
    "    mysterious_var = 'Function Surprise!' ## inside scope (local)\n",
    "    print(mysterious_var)\n",
    "    \n",
    "mysterious_var = 'Surprise!' ##outside funct exist (global)\n",
    "print(mysterious_var)\n",
    "show_truth()\n",
    "print(mysterious_var)\n",
    "# shadowing = local value shadowed the outside function :::::::"
   ]
  },
  {
   "cell_type": "code",
   "execution_count": 25,
   "id": "4ab199f1",
   "metadata": {},
   "outputs": [
    {
     "name": "stdout",
     "output_type": "stream",
     "text": [
      "Surprise!\n",
      "Function Surprise!\n",
      "Function Surprise!\n"
     ]
    }
   ],
   "source": [
    "def show_truth():\n",
    "    global mysterious_var\n",
    "    mysterious_var = 'Function Surprise!' ## inside scope (local)\n",
    "    print(mysterious_var)\n",
    "    \n",
    "mysterious_var = 'Surprise!' ##outside funct exist (global)\n",
    "print(mysterious_var)\n",
    "show_truth()\n",
    "print(mysterious_var)"
   ]
  },
  {
   "cell_type": "code",
   "execution_count": 28,
   "id": "14b908c6",
   "metadata": {},
   "outputs": [
    {
     "name": "stdout",
     "output_type": "stream",
     "text": [
      "['Surprise!']\n",
      "['Surprise!', 'Function Surprise!']\n",
      "['Surprise!', 'Function Surprise!']\n"
     ]
    }
   ],
   "source": [
    "def show_truth():\n",
    "#     global mysterious_var\n",
    "    mysterious_var.append('Function Surprise!')\n",
    "    print(mysterious_var)\n",
    "    \n",
    "mysterious_var = ['Surprise!']\n",
    "print(mysterious_var)\n",
    "show_truth()\n",
    "print(mysterious_var)"
   ]
  },
  {
   "cell_type": "code",
   "execution_count": 30,
   "id": "ab3f1774",
   "metadata": {},
   "outputs": [
    {
     "name": "stdout",
     "output_type": "stream",
     "text": [
      "5\n"
     ]
    }
   ],
   "source": [
    "## NONE VALUE\n",
    "length = len('hello')\n",
    "print(length) #cause an effect"
   ]
  },
  {
   "cell_type": "code",
   "execution_count": 32,
   "id": "a561791d",
   "metadata": {},
   "outputs": [
    {
     "name": "stdout",
     "output_type": "stream",
     "text": [
      "Enter your no :10\n"
     ]
    }
   ],
   "source": [
    "num = input('Enter your no :')"
   ]
  },
  {
   "cell_type": "code",
   "execution_count": 33,
   "id": "fd3f75e2",
   "metadata": {},
   "outputs": [
    {
     "name": "stdout",
     "output_type": "stream",
     "text": [
      "hello world\n",
      "None\n"
     ]
    }
   ],
   "source": [
    "print_return = print('hello world')\n",
    "print(print_return)"
   ]
  },
  {
   "cell_type": "code",
   "execution_count": 34,
   "id": "4e56a8a1",
   "metadata": {},
   "outputs": [
    {
     "name": "stdout",
     "output_type": "stream",
     "text": [
      "None is not true, or false, None is just none\n"
     ]
    }
   ],
   "source": [
    "# none is not zero not empty not null\n",
    "x = None\n",
    "if x:\n",
    "    print('None is true')\n",
    "elif x is False:\n",
    "    print('None is False')\n",
    "else:\n",
    "    print(\"None is not true, or false, None is just none\")"
   ]
  },
  {
   "cell_type": "code",
   "execution_count": 35,
   "id": "be581257",
   "metadata": {},
   "outputs": [
    {
     "name": "stdout",
     "output_type": "stream",
     "text": [
      "yes\n",
      "It does\n"
     ]
    }
   ],
   "source": [
    "x = None\n",
    "if x is None:\n",
    "    print('yes')\n",
    "if x == None:\n",
    "    print('It does')"
   ]
  },
  {
   "cell_type": "code",
   "execution_count": 36,
   "id": "d16295f9",
   "metadata": {},
   "outputs": [
    {
     "name": "stdout",
     "output_type": "stream",
     "text": [
      "yes\n",
      "1\n"
     ]
    }
   ],
   "source": [
    "x = None\n",
    "if x is None:\n",
    "    print('yes')\n",
    "    x = 1\n",
    "print(x)"
   ]
  },
  {
   "cell_type": "code",
   "execution_count": 37,
   "id": "8f1cb170",
   "metadata": {},
   "outputs": [
    {
     "name": "stdout",
     "output_type": "stream",
     "text": [
      "Hello!\n",
      "None\n"
     ]
    }
   ],
   "source": [
    "def greet():\n",
    "    print('Hello!')\n",
    "\n",
    "x = greet()\n",
    "print(x)"
   ]
  },
  {
   "cell_type": "code",
   "execution_count": 12,
   "id": "10a27a5b",
   "metadata": {},
   "outputs": [],
   "source": [
    "## RETURN IN FUNCTION\n",
    "\n",
    "def get_avgg(input_num): ## parameter\n",
    "    sum = 0.0\n",
    "    for num in input_num:\n",
    "        sum += num\n",
    "    avg = sum / len(input_num)\n",
    "    return avg\n",
    "\n"
   ]
  },
  {
   "cell_type": "code",
   "execution_count": 13,
   "id": "ffd34a93",
   "metadata": {},
   "outputs": [
    {
     "name": "stdout",
     "output_type": "stream",
     "text": [
      "The avg is: 5.0\n"
     ]
    }
   ],
   "source": [
    "print('The avg is:', get_avgg([5.0, 3.5, 6.9, 4.6]))"
   ]
  },
  {
   "cell_type": "code",
   "execution_count": 16,
   "id": "92c39c19",
   "metadata": {},
   "outputs": [
    {
     "name": "stdout",
     "output_type": "stream",
     "text": [
      "The avg is too high\n"
     ]
    }
   ],
   "source": [
    "avg = get_avgg([5.0, 3.5, 6.9, 4.6])\n",
    "if avg > 3.0:\n",
    "    print('The avg is too high')"
   ]
  },
  {
   "cell_type": "code",
   "execution_count": 17,
   "id": "a26fed98",
   "metadata": {},
   "outputs": [],
   "source": [
    "def is_first_last_equal(num_list):\n",
    "    if (num_list[0] == num_list[-1]):\n",
    "        return True\n",
    "    else:\n",
    "        return False"
   ]
  },
  {
   "cell_type": "code",
   "execution_count": 18,
   "id": "a14ecd1f",
   "metadata": {},
   "outputs": [
    {
     "name": "stdout",
     "output_type": "stream",
     "text": [
      "True\n"
     ]
    }
   ],
   "source": [
    "print(is_first_last_equal([10,20,30,40,10]))"
   ]
  },
  {
   "cell_type": "code",
   "execution_count": 19,
   "id": "bbc1f696",
   "metadata": {},
   "outputs": [
    {
     "name": "stdout",
     "output_type": "stream",
     "text": [
      "False\n"
     ]
    }
   ],
   "source": [
    "print(is_first_last_equal([10,20,30,40]))"
   ]
  },
  {
   "cell_type": "code",
   "execution_count": 21,
   "id": "b9451afd",
   "metadata": {},
   "outputs": [
    {
     "ename": "IndexError",
     "evalue": "list index out of range",
     "output_type": "error",
     "traceback": [
      "\u001b[1;31m---------------------------------------------------------------------------\u001b[0m",
      "\u001b[1;31mIndexError\u001b[0m                                Traceback (most recent call last)",
      "\u001b[1;32m~\\AppData\\Local\\Temp/ipykernel_1388/1771268329.py\u001b[0m in \u001b[0;36m<module>\u001b[1;34m\u001b[0m\n\u001b[1;32m----> 1\u001b[1;33m \u001b[0mprint\u001b[0m\u001b[1;33m(\u001b[0m\u001b[0mis_first_last_equal\u001b[0m\u001b[1;33m(\u001b[0m\u001b[1;33m[\u001b[0m\u001b[1;33m]\u001b[0m\u001b[1;33m)\u001b[0m\u001b[1;33m)\u001b[0m\u001b[1;33m\u001b[0m\u001b[1;33m\u001b[0m\u001b[0m\n\u001b[0m",
      "\u001b[1;32m~\\AppData\\Local\\Temp/ipykernel_1388/2655014034.py\u001b[0m in \u001b[0;36mis_first_last_equal\u001b[1;34m(num_list)\u001b[0m\n\u001b[0;32m      1\u001b[0m \u001b[1;32mdef\u001b[0m \u001b[0mis_first_last_equal\u001b[0m\u001b[1;33m(\u001b[0m\u001b[0mnum_list\u001b[0m\u001b[1;33m)\u001b[0m\u001b[1;33m:\u001b[0m\u001b[1;33m\u001b[0m\u001b[1;33m\u001b[0m\u001b[0m\n\u001b[1;32m----> 2\u001b[1;33m     \u001b[1;32mif\u001b[0m \u001b[1;33m(\u001b[0m\u001b[0mnum_list\u001b[0m\u001b[1;33m[\u001b[0m\u001b[1;36m0\u001b[0m\u001b[1;33m]\u001b[0m \u001b[1;33m==\u001b[0m \u001b[0mnum_list\u001b[0m\u001b[1;33m[\u001b[0m\u001b[1;33m-\u001b[0m\u001b[1;36m1\u001b[0m\u001b[1;33m]\u001b[0m\u001b[1;33m)\u001b[0m\u001b[1;33m:\u001b[0m\u001b[1;33m\u001b[0m\u001b[1;33m\u001b[0m\u001b[0m\n\u001b[0m\u001b[0;32m      3\u001b[0m         \u001b[1;32mreturn\u001b[0m \u001b[1;32mTrue\u001b[0m\u001b[1;33m\u001b[0m\u001b[1;33m\u001b[0m\u001b[0m\n\u001b[0;32m      4\u001b[0m     \u001b[1;32melse\u001b[0m\u001b[1;33m:\u001b[0m\u001b[1;33m\u001b[0m\u001b[1;33m\u001b[0m\u001b[0m\n\u001b[0;32m      5\u001b[0m         \u001b[1;32mreturn\u001b[0m \u001b[1;32mFalse\u001b[0m\u001b[1;33m\u001b[0m\u001b[1;33m\u001b[0m\u001b[0m\n",
      "\u001b[1;31mIndexError\u001b[0m: list index out of range"
     ]
    }
   ],
   "source": [
    "print(is_first_last_equal([]))"
   ]
  },
  {
   "cell_type": "code",
   "execution_count": 23,
   "id": "7b21ac15",
   "metadata": {},
   "outputs": [],
   "source": [
    "def is_first_last_equal(num_list):\n",
    "    if len(num_list) == 0:\n",
    "        return\n",
    "    if (num_list[0] == num_list[-1]):\n",
    "        return True\n",
    "    else:\n",
    "        return False"
   ]
  },
  {
   "cell_type": "code",
   "execution_count": 24,
   "id": "b703c41b",
   "metadata": {},
   "outputs": [
    {
     "name": "stdout",
     "output_type": "stream",
     "text": [
      "True\n"
     ]
    }
   ],
   "source": [
    "print(is_first_last_equal([10,20,30,40,10]))"
   ]
  },
  {
   "cell_type": "code",
   "execution_count": 27,
   "id": "574fd155",
   "metadata": {},
   "outputs": [],
   "source": [
    "## RECURSION\n",
    "# fac = 3! = 6\n",
    "\n",
    "# without recursion\n",
    "\n",
    "def get_fact(num):\n",
    "    fact = 1\n",
    "    for x in range(1, num + 1):\n",
    "        fact *= x\n",
    "    return fact"
   ]
  },
  {
   "cell_type": "code",
   "execution_count": 28,
   "id": "2f7718c6",
   "metadata": {},
   "outputs": [
    {
     "name": "stdout",
     "output_type": "stream",
     "text": [
      "720\n"
     ]
    }
   ],
   "source": [
    "print(get_fact(6))"
   ]
  },
  {
   "cell_type": "code",
   "execution_count": 30,
   "id": "7039d62f",
   "metadata": {},
   "outputs": [
    {
     "ename": "SyntaxError",
     "evalue": "invalid syntax (Temp/ipykernel_1388/1390937543.py, line 1)",
     "output_type": "error",
     "traceback": [
      "\u001b[1;36m  File \u001b[1;32m\"C:\\Users\\Dell\\AppData\\Local\\Temp/ipykernel_1388/1390937543.py\"\u001b[1;36m, line \u001b[1;32m1\u001b[0m\n\u001b[1;33m    1! = 1\u001b[0m\n\u001b[1;37m     ^\u001b[0m\n\u001b[1;31mSyntaxError\u001b[0m\u001b[1;31m:\u001b[0m invalid syntax\n"
     ]
    }
   ],
   "source": [
    "1! = 1\n",
    "2! = 2 * 1!\n",
    "3! = 3 * 2!\n",
    "4! = 4 * 3!\n",
    "5! = 5 * 4!"
   ]
  },
  {
   "cell_type": "code",
   "execution_count": null,
   "id": "f44ad28b",
   "metadata": {},
   "outputs": [],
   "source": [
    "def get_fact_recu(num):\n",
    "    return num * get_fact_recu(num-1)\n",
    "get_fact_recu(6)"
   ]
  },
  {
   "cell_type": "code",
   "execution_count": null,
   "id": "c9be46fb",
   "metadata": {},
   "outputs": [],
   "source": [
    "get_fact_recu(6)"
   ]
  },
  {
   "cell_type": "code",
   "execution_count": 3,
   "id": "6b5047e5",
   "metadata": {},
   "outputs": [],
   "source": [
    "## GENERATORS\n",
    "\n",
    "def get_number():\n",
    "    for i in range(1, 4):\n",
    "        yield i"
   ]
  },
  {
   "cell_type": "code",
   "execution_count": 2,
   "id": "3235a1d5",
   "metadata": {},
   "outputs": [
    {
     "ename": "NameError",
     "evalue": "name 'get_number' is not defined",
     "output_type": "error",
     "traceback": [
      "\u001b[1;31m---------------------------------------------------------------------------\u001b[0m",
      "\u001b[1;31mNameError\u001b[0m                                 Traceback (most recent call last)",
      "\u001b[1;32m~\\AppData\\Local\\Temp/ipykernel_6752/3577186947.py\u001b[0m in \u001b[0;36m<module>\u001b[1;34m\u001b[0m\n\u001b[1;32m----> 1\u001b[1;33m \u001b[0mprint\u001b[0m\u001b[1;33m(\u001b[0m\u001b[0mget_number\u001b[0m\u001b[1;33m(\u001b[0m\u001b[1;33m)\u001b[0m\u001b[1;33m)\u001b[0m\u001b[1;33m\u001b[0m\u001b[1;33m\u001b[0m\u001b[0m\n\u001b[0m",
      "\u001b[1;31mNameError\u001b[0m: name 'get_number' is not defined"
     ]
    }
   ],
   "source": [
    "print(get_number())"
   ]
  },
  {
   "cell_type": "code",
   "execution_count": 4,
   "id": "87846249",
   "metadata": {},
   "outputs": [],
   "source": [
    "def get_number():\n",
    "    for i in range(1, 4):\n",
    "        yield i"
   ]
  },
  {
   "cell_type": "code",
   "execution_count": 5,
   "id": "2d351405",
   "metadata": {},
   "outputs": [
    {
     "name": "stdout",
     "output_type": "stream",
     "text": [
      "<generator object get_number at 0x000002958E8D16D0>\n"
     ]
    }
   ],
   "source": [
    "print(get_number())"
   ]
  },
  {
   "cell_type": "code",
   "execution_count": 10,
   "id": "c3c2bf10",
   "metadata": {},
   "outputs": [
    {
     "name": "stdout",
     "output_type": "stream",
     "text": [
      "1\n",
      "2\n",
      "3\n"
     ]
    }
   ],
   "source": [
    "generator = get_number()\n",
    "print(next(generator))\n",
    "print(next(generator))\n",
    "print(next(generator))"
   ]
  },
  {
   "cell_type": "code",
   "execution_count": 11,
   "id": "6c4ad583",
   "metadata": {},
   "outputs": [
    {
     "name": "stdout",
     "output_type": "stream",
     "text": [
      "1\n",
      "2\n",
      "3\n"
     ]
    }
   ],
   "source": [
    "for x in get_number():\n",
    "    print(x)"
   ]
  },
  {
   "cell_type": "code",
   "execution_count": 12,
   "id": "36ea5552",
   "metadata": {},
   "outputs": [
    {
     "name": "stdout",
     "output_type": "stream",
     "text": [
      "[1, 2, 3]\n"
     ]
    }
   ],
   "source": [
    "number = list(get_number())\n",
    "print(number)"
   ]
  },
  {
   "cell_type": "code",
   "execution_count": null,
   "id": "1769e752",
   "metadata": {},
   "outputs": [],
   "source": []
  },
  {
   "cell_type": "code",
   "execution_count": null,
   "id": "69ae1c1f",
   "metadata": {},
   "outputs": [],
   "source": []
  }
 ],
 "metadata": {
  "kernelspec": {
   "display_name": "Python 3 (ipykernel)",
   "language": "python",
   "name": "python3"
  },
  "language_info": {
   "codemirror_mode": {
    "name": "ipython",
    "version": 3
   },
   "file_extension": ".py",
   "mimetype": "text/x-python",
   "name": "python",
   "nbconvert_exporter": "python",
   "pygments_lexer": "ipython3",
   "version": "3.9.7"
  }
 },
 "nbformat": 4,
 "nbformat_minor": 5
}
