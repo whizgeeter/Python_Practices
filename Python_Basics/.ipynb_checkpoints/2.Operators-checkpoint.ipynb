{
 "cells": [
  {
   "cell_type": "code",
   "execution_count": 2,
   "id": "6b1cdb3f",
   "metadata": {},
   "outputs": [
    {
     "ename": "SyntaxError",
     "evalue": "invalid syntax (Temp/ipykernel_4836/3103297295.py, line 2)",
     "output_type": "error",
     "traceback": [
      "\u001b[1;36m  File \u001b[1;32m\"C:\\Users\\Dell\\AppData\\Local\\Temp/ipykernel_4836/3103297295.py\"\u001b[1;36m, line \u001b[1;32m2\u001b[0m\n\u001b[1;33m    print(\"your height in feet is :\" height/30.48 )\u001b[0m\n\u001b[1;37m                                     ^\u001b[0m\n\u001b[1;31mSyntaxError\u001b[0m\u001b[1;31m:\u001b[0m invalid syntax\n"
     ]
    }
   ],
   "source": [
    "height = input('height converter : enter your height in cm')\n",
    "print(\"your height in feet is :\" height/30.48 )"
   ]
  },
  {
   "cell_type": "code",
   "execution_count": 8,
   "id": "0a131bc2",
   "metadata": {},
   "outputs": [
    {
     "name": "stdout",
     "output_type": "stream",
     "text": [
      "height converter : enter your height in cm20\n",
      "your height in feet is : 0.6561679790026247\n"
     ]
    }
   ],
   "source": [
    "#float func\n",
    "height = input('height converter : enter your height in cm')\n",
    "float_height = float(height)\n",
    "print(\"your height in feet is :\", float_height / 30.48 )"
   ]
  },
  {
   "cell_type": "code",
   "execution_count": 10,
   "id": "937fafd0",
   "metadata": {},
   "outputs": [
    {
     "name": "stdout",
     "output_type": "stream",
     "text": [
      "height converter : enter your height in cm : 20\n",
      "your height in feet is : 0.6561679790026247\n"
     ]
    }
   ],
   "source": [
    "height = float(input('height converter : enter your height in cm : '))\n",
    "print(\"your height in feet is :\", float_height / 30.48 )"
   ]
  },
  {
   "cell_type": "code",
   "execution_count": 12,
   "id": "3cdfee59",
   "metadata": {},
   "outputs": [
    {
     "name": "stdout",
     "output_type": "stream",
     "text": [
      "what year you were born ?1997\n",
      "in 2100,you will be  103 year old\n"
     ]
    }
   ],
   "source": [
    "year_born = int(input('what year you were born ?'))\n",
    "print('in 2100,you will be ', 2100-year_born,'year old')"
   ]
  },
  {
   "cell_type": "code",
   "execution_count": 16,
   "id": "4b895ee7",
   "metadata": {},
   "outputs": [
    {
     "name": "stdout",
     "output_type": "stream",
     "text": [
      "enter temp in celc degree : 20\n",
      "20 degreee celcius equal 68.0 degree farenhite\n"
     ]
    }
   ],
   "source": [
    "temp_c = input('enter temp in celc degree : ')\n",
    "temp_f = float(temp_c) * 1.8 + 32\n",
    "temp_statement = str(temp_c) + ' degreee celcius equal ' + str(temp_f) + ' degree farenhite'\n",
    "print(temp_statement)"
   ]
  },
  {
   "cell_type": "code",
   "execution_count": 17,
   "id": "bb09f5c9",
   "metadata": {},
   "outputs": [],
   "source": [
    "# float int str is typecasting func\n",
    "# but python fails to conbvert string name into number"
   ]
  },
  {
   "cell_type": "code",
   "execution_count": 18,
   "id": "ebecc085",
   "metadata": {},
   "outputs": [
    {
     "data": {
      "text/plain": [
       "2"
      ]
     },
     "execution_count": 18,
     "metadata": {},
     "output_type": "execute_result"
    }
   ],
   "source": [
    "## OPERATOR\n",
    "5 + 7\n",
    "7 - 5"
   ]
  },
  {
   "cell_type": "code",
   "execution_count": 19,
   "id": "4b0951c9",
   "metadata": {},
   "outputs": [],
   "source": [
    "# order of operator\n",
    "# **\n",
    "# * / // %\n",
    "# + -"
   ]
  },
  {
   "cell_type": "code",
   "execution_count": 20,
   "id": "330dbe5c",
   "metadata": {},
   "outputs": [
    {
     "data": {
      "text/plain": [
       "8"
      ]
     },
     "execution_count": 20,
     "metadata": {},
     "output_type": "execute_result"
    }
   ],
   "source": [
    "2 + 3 * 2"
   ]
  },
  {
   "cell_type": "code",
   "execution_count": 21,
   "id": "57237669",
   "metadata": {},
   "outputs": [
    {
     "name": "stdout",
     "output_type": "stream",
     "text": [
      "0.1\n"
     ]
    }
   ],
   "source": [
    "print (0.1)"
   ]
  },
  {
   "cell_type": "code",
   "execution_count": 22,
   "id": "d559bfbb",
   "metadata": {},
   "outputs": [
    {
     "name": "stdout",
     "output_type": "stream",
     "text": [
      "0.30000000000000004\n"
     ]
    }
   ],
   "source": [
    "print(0.1 + 0.1 + 0.1)"
   ]
  },
  {
   "cell_type": "code",
   "execution_count": 23,
   "id": "e9a9ee24",
   "metadata": {},
   "outputs": [
    {
     "data": {
      "text/plain": [
       "256"
      ]
     },
     "execution_count": 23,
     "metadata": {},
     "output_type": "execute_result"
    }
   ],
   "source": [
    "2 ** 2 ** 3 #operate start from right while other operator start from left"
   ]
  },
  {
   "cell_type": "code",
   "execution_count": 24,
   "id": "b2bee66d",
   "metadata": {},
   "outputs": [],
   "source": [
    "#bitwise operator\n",
    "# 8 bits = 1 bytes\n",
    "# 1 kilobyte (kb) = 1000 bytes = 8000 bits(or sometime 1024 bytes)\n",
    "# 6 bitwise operator = ' & | ~ ^ << >>'\n"
   ]
  },
  {
   "cell_type": "code",
   "execution_count": 26,
   "id": "60fd8fa7",
   "metadata": {},
   "outputs": [
    {
     "name": "stdout",
     "output_type": "stream",
     "text": [
      "0\n"
     ]
    }
   ],
   "source": [
    "first_bit = 1\n",
    "second_bit = 0\n",
    "\n",
    "print(first_bit & second_bit)"
   ]
  },
  {
   "cell_type": "code",
   "execution_count": 27,
   "id": "df2b0fe8",
   "metadata": {},
   "outputs": [
    {
     "name": "stdout",
     "output_type": "stream",
     "text": [
      "1\n"
     ]
    }
   ],
   "source": [
    "first_bit = 1\n",
    "second_bit = 0\n",
    "\n",
    "print(first_bit | second_bit)"
   ]
  },
  {
   "cell_type": "code",
   "execution_count": 28,
   "id": "1ed2b5ce",
   "metadata": {},
   "outputs": [
    {
     "name": "stdout",
     "output_type": "stream",
     "text": [
      "0\n"
     ]
    }
   ],
   "source": [
    "first_bit = 1\n",
    "second_bit = 1\n",
    "#xor\n",
    "print(first_bit ^ second_bit)"
   ]
  },
  {
   "cell_type": "code",
   "execution_count": 29,
   "id": "65785ecf",
   "metadata": {},
   "outputs": [
    {
     "name": "stdout",
     "output_type": "stream",
     "text": [
      "-1\n"
     ]
    }
   ],
   "source": [
    "first_bit = 1\n",
    "second_bit = 1\n",
    "#logical not\n",
    "print(~0)"
   ]
  },
  {
   "cell_type": "code",
   "execution_count": 30,
   "id": "b91ccf02",
   "metadata": {},
   "outputs": [
    {
     "data": {
      "text/plain": [
       "24"
      ]
     },
     "execution_count": 30,
     "metadata": {},
     "output_type": "execute_result"
    }
   ],
   "source": [
    "#left shift\n",
    "12 << 1"
   ]
  },
  {
   "cell_type": "code",
   "execution_count": 31,
   "id": "5a7b204a",
   "metadata": {},
   "outputs": [
    {
     "data": {
      "text/plain": [
       "6"
      ]
     },
     "execution_count": 31,
     "metadata": {},
     "output_type": "execute_result"
    }
   ],
   "source": [
    "12>>1"
   ]
  },
  {
   "cell_type": "code",
   "execution_count": 32,
   "id": "822bb08f",
   "metadata": {},
   "outputs": [
    {
     "data": {
      "text/plain": [
       "3"
      ]
     },
     "execution_count": 32,
     "metadata": {},
     "output_type": "execute_result"
    }
   ],
   "source": [
    "12 >> 2"
   ]
  },
  {
   "cell_type": "code",
   "execution_count": 33,
   "id": "e263271b",
   "metadata": {},
   "outputs": [
    {
     "data": {
      "text/plain": [
       "1"
      ]
     },
     "execution_count": 33,
     "metadata": {},
     "output_type": "execute_result"
    }
   ],
   "source": [
    "12 >> 3"
   ]
  },
  {
   "cell_type": "code",
   "execution_count": 34,
   "id": "f1836385",
   "metadata": {},
   "outputs": [
    {
     "data": {
      "text/plain": [
       "0"
      ]
     },
     "execution_count": 34,
     "metadata": {},
     "output_type": "execute_result"
    }
   ],
   "source": [
    "12 >> 4"
   ]
  },
  {
   "cell_type": "code",
   "execution_count": 35,
   "id": "a8e72896",
   "metadata": {},
   "outputs": [
    {
     "data": {
      "text/plain": [
       "0"
      ]
     },
     "execution_count": 35,
     "metadata": {},
     "output_type": "execute_result"
    }
   ],
   "source": [
    "12 >> 5"
   ]
  },
  {
   "cell_type": "code",
   "execution_count": 1,
   "id": "f51e0b0c",
   "metadata": {},
   "outputs": [],
   "source": [
    "##binary\n",
    "#12 = 1100\n"
   ]
  },
  {
   "cell_type": "code",
   "execution_count": 2,
   "id": "ad1b2755",
   "metadata": {},
   "outputs": [],
   "source": [
    "#############################################################################################################"
   ]
  },
  {
   "cell_type": "code",
   "execution_count": null,
   "id": "ca79918e",
   "metadata": {},
   "outputs": [],
   "source": []
  }
 ],
 "metadata": {
  "kernelspec": {
   "display_name": "Python 3 (ipykernel)",
   "language": "python",
   "name": "python3"
  },
  "language_info": {
   "codemirror_mode": {
    "name": "ipython",
    "version": 3
   },
   "file_extension": ".py",
   "mimetype": "text/x-python",
   "name": "python",
   "nbconvert_exporter": "python",
   "pygments_lexer": "ipython3",
   "version": "3.9.7"
  }
 },
 "nbformat": 4,
 "nbformat_minor": 5
}
