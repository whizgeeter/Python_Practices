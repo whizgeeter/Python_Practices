{
 "cells": [
  {
   "cell_type": "code",
   "execution_count": 1,
   "id": "90f71224",
   "metadata": {},
   "outputs": [
    {
     "data": {
      "text/plain": [
       "5"
      ]
     },
     "execution_count": 1,
     "metadata": {},
     "output_type": "execute_result"
    }
   ],
   "source": [
    "len('Hello') #print length of char in string"
   ]
  },
  {
   "cell_type": "code",
   "execution_count": 2,
   "id": "8f457b9c",
   "metadata": {},
   "outputs": [
    {
     "name": "stdout",
     "output_type": "stream",
     "text": [
      "hello , world!.python speaking\n"
     ]
    }
   ],
   "source": [
    "#keyword arguments\n",
    "print('hello , world!', end='.')\n",
    "print('python speaking')"
   ]
  },
  {
   "cell_type": "code",
   "execution_count": 3,
   "id": "1e56fd56",
   "metadata": {},
   "outputs": [
    {
     "name": "stdout",
     "output_type": "stream",
     "text": [
      "your first name is :  harshit  Welcome!\n"
     ]
    }
   ],
   "source": [
    "first_name = 'harshit'\n",
    "print('your first name is : ',first_name,' Welcome!')"
   ]
  },
  {
   "cell_type": "code",
   "execution_count": 5,
   "id": "80429c1a",
   "metadata": {},
   "outputs": [
    {
     "name": "stdout",
     "output_type": "stream",
     "text": [
      "your first name is : -harshit- Welcome!="
     ]
    }
   ],
   "source": [
    "first_name = 'harshit'\n",
    "print('your first name is : ',first_name,' Welcome!', sep='-',end='=')"
   ]
  },
  {
   "cell_type": "code",
   "execution_count": 1,
   "id": "951209fb",
   "metadata": {},
   "outputs": [],
   "source": [
    "##########################################################################################################################################################################################################################"
   ]
  },
  {
   "cell_type": "code",
   "execution_count": null,
   "id": "fea3786e",
   "metadata": {},
   "outputs": [],
   "source": []
  }
 ],
 "metadata": {
  "kernelspec": {
   "display_name": "Python 3 (ipykernel)",
   "language": "python",
   "name": "python3"
  },
  "language_info": {
   "codemirror_mode": {
    "name": "ipython",
    "version": 3
   },
   "file_extension": ".py",
   "mimetype": "text/x-python",
   "name": "python",
   "nbconvert_exporter": "python",
   "pygments_lexer": "ipython3",
   "version": "3.9.7"
  }
 },
 "nbformat": 4,
 "nbformat_minor": 5
}
