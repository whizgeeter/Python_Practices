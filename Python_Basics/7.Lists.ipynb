{
 "cells": [
  {
   "cell_type": "code",
   "execution_count": 1,
   "id": "46c74350",
   "metadata": {},
   "outputs": [],
   "source": [
    "#multiple value of same type eg: multiple integer\n",
    "city1 = 'New york city'\n",
    "city2 = 'gwalior'\n",
    "city3 = 'indore'\n",
    "city4 = 'khandwa'\n",
    "city5 = 'hulululu'\n"
   ]
  },
  {
   "cell_type": "code",
   "execution_count": 2,
   "id": "03f06ba3",
   "metadata": {},
   "outputs": [],
   "source": [
    "emp_list = []"
   ]
  },
  {
   "cell_type": "code",
   "execution_count": 4,
   "id": "8f6ef0fb",
   "metadata": {},
   "outputs": [
    {
     "name": "stdout",
     "output_type": "stream",
     "text": [
      "['New york city', 'gwalior', 'indore', 'khandwa', 'hulululu']\n"
     ]
    }
   ],
   "source": [
    "top_cities = ['New york city','gwalior','indore','khandwa','hulululu'] \n",
    "print(top_cities)"
   ]
  },
  {
   "cell_type": "code",
   "execution_count": 5,
   "id": "068dc21f",
   "metadata": {},
   "outputs": [
    {
     "data": {
      "text/plain": [
       "'New york city'"
      ]
     },
     "execution_count": 5,
     "metadata": {},
     "output_type": "execute_result"
    }
   ],
   "source": [
    "top_cities[0]"
   ]
  },
  {
   "cell_type": "code",
   "execution_count": 6,
   "id": "ac87b91a",
   "metadata": {},
   "outputs": [
    {
     "data": {
      "text/plain": [
       "'hulululu'"
      ]
     },
     "execution_count": 6,
     "metadata": {},
     "output_type": "execute_result"
    }
   ],
   "source": [
    "top_cities[-1]"
   ]
  },
  {
   "cell_type": "code",
   "execution_count": 8,
   "id": "bbe285db",
   "metadata": {},
   "outputs": [
    {
     "data": {
      "text/plain": [
       "['New york city', 'gwalior', 'indore', 'khandwa', 'hulululu']"
      ]
     },
     "execution_count": 8,
     "metadata": {},
     "output_type": "execute_result"
    }
   ],
   "source": [
    "top_cities[0:5]"
   ]
  },
  {
   "cell_type": "code",
   "execution_count": 22,
   "id": "220d94a3",
   "metadata": {},
   "outputs": [
    {
     "data": {
      "text/plain": [
       "['New york city', 'gwalior', 'indore', 'khandwa']"
      ]
     },
     "execution_count": 22,
     "metadata": {},
     "output_type": "execute_result"
    }
   ],
   "source": [
    "top_cities[-5:-1]"
   ]
  },
  {
   "cell_type": "code",
   "execution_count": 16,
   "id": "379d165d",
   "metadata": {},
   "outputs": [
    {
     "data": {
      "text/plain": [
       "['gwalior', 'indore', 'khandwa']"
      ]
     },
     "execution_count": 16,
     "metadata": {},
     "output_type": "execute_result"
    }
   ],
   "source": [
    "top_cities[-4:-1]"
   ]
  },
  {
   "cell_type": "code",
   "execution_count": 18,
   "id": "c03b9fcc",
   "metadata": {},
   "outputs": [
    {
     "data": {
      "text/plain": [
       "['indore', 'khandwa', 'hulululu']"
      ]
     },
     "execution_count": 18,
     "metadata": {},
     "output_type": "execute_result"
    }
   ],
   "source": [
    "top_cities[2:]"
   ]
  },
  {
   "cell_type": "code",
   "execution_count": 19,
   "id": "eb8c0237",
   "metadata": {},
   "outputs": [
    {
     "data": {
      "text/plain": [
       "['New york city', 'gwalior']"
      ]
     },
     "execution_count": 19,
     "metadata": {},
     "output_type": "execute_result"
    }
   ],
   "source": [
    "top_cities[:2]"
   ]
  },
  {
   "cell_type": "code",
   "execution_count": 25,
   "id": "d9671bad",
   "metadata": {},
   "outputs": [
    {
     "name": "stdout",
     "output_type": "stream",
     "text": [
      "['New york city', 'gwalior', 'indore', 'hulululu', 'singapore']\n"
     ]
    }
   ],
   "source": [
    "# DELETE LIST\n",
    "top_cities = ['New york city','gwalior','indore','khandwa','hulululu','singapore'] \n",
    "del top_cities[3]  #all element from right shift from left\n",
    "print(top_cities)  # del is an instruction"
   ]
  },
  {
   "cell_type": "code",
   "execution_count": 1,
   "id": "1e404dab",
   "metadata": {},
   "outputs": [
    {
     "name": "stdout",
     "output_type": "stream",
     "text": [
      "[7, 8, 6, 9, 4]\n"
     ]
    }
   ],
   "source": [
    "# ADD NEW ELEMENT LIST\n",
    "book_rating = [7, 8, 6, 9]\n",
    "book_rating.append(4)\n",
    "print(book_rating)"
   ]
  },
  {
   "cell_type": "code",
   "execution_count": 2,
   "id": "e5fd066d",
   "metadata": {},
   "outputs": [
    {
     "name": "stdout",
     "output_type": "stream",
     "text": [
      "[7, 10, 8, 6, 9]\n"
     ]
    }
   ],
   "source": [
    "book_rating = [7, 8, 6, 9]\n",
    "book_rating.insert(1,10)\n",
    "print(book_rating)"
   ]
  },
  {
   "cell_type": "code",
   "execution_count": 3,
   "id": "b9e4fa01",
   "metadata": {},
   "outputs": [
    {
     "name": "stdout",
     "output_type": "stream",
     "text": [
      "Current city: New york city\n",
      "Current city: gwalior\n",
      "Current city: indore\n",
      "Current city: khandwa\n",
      "Current city: hulululu\n",
      "Current city: singapore\n"
     ]
    }
   ],
   "source": [
    "## ITERATING LIST\n",
    "top_cities = ['New york city','gwalior','indore','khandwa','hulululu','singapore'] \n",
    "for city in top_cities:\n",
    "    print('Current city:', city)\n",
    "    "
   ]
  },
  {
   "cell_type": "code",
   "execution_count": 8,
   "id": "cf0ab147",
   "metadata": {},
   "outputs": [
    {
     "name": "stdout",
     "output_type": "stream",
     "text": [
      "Current index: 0 | Current city: New york city\n",
      "Current index: 1 | Current city: gwalior\n",
      "Current index: 2 | Current city: indore\n",
      "Current index: 3 | Current city: khandwa\n",
      "Current index: 4 | Current city: hulululu\n",
      "Current index: 5 | Current city: singapore\n"
     ]
    }
   ],
   "source": [
    "top_cities = ['New york city','gwalior','indore','khandwa','hulululu','singapore'] \n",
    "for city_index in range(len(top_cities)):\n",
    "    print('Current index:', city_index, '| Current city:', top_cities[city_index] )"
   ]
  },
  {
   "cell_type": "code",
   "execution_count": 10,
   "id": "00aaebd4",
   "metadata": {},
   "outputs": [
    {
     "name": "stdout",
     "output_type": "stream",
     "text": [
      "Money spent: 279.82000000000005\n"
     ]
    }
   ],
   "source": [
    "spendings = [32,45,118.65,78.94,5.23]\n",
    "sum = 0.0\n",
    "for spending in spendings:\n",
    "    sum += spending\n",
    "print('Money spent:',sum)    "
   ]
  },
  {
   "cell_type": "code",
   "execution_count": 13,
   "id": "1d867df5",
   "metadata": {},
   "outputs": [
    {
     "name": "stdout",
     "output_type": "stream",
     "text": [
      "Enter first variable: 10\n",
      "Enter second variable: 20\n",
      "Before swaping: 10 20\n",
      "After swaping: 20 20\n"
     ]
    }
   ],
   "source": [
    "## CHANGING ELEMENT POSITION\n",
    "first = input('Enter first variable: ')\n",
    "second = input('Enter second variable: ')\n",
    "print('Before swaping:', first, second)\n",
    "first = second\n",
    "second = first\n",
    "print('After swaping:', first, second)"
   ]
  },
  {
   "cell_type": "code",
   "execution_count": 18,
   "id": "c76bb74d",
   "metadata": {},
   "outputs": [
    {
     "name": "stdout",
     "output_type": "stream",
     "text": [
      "Enter first variable: 10\n",
      "Enter second variable: 20\n",
      "Before swaping: 10 20\n",
      "After swaping: 20 10\n"
     ]
    }
   ],
   "source": [
    "first = input('Enter first variable: ')\n",
    "second = input('Enter second variable: ')\n",
    "print('Before swaping:', first, second)\n",
    "temp = first\n",
    "first = second\n",
    "second = first\n",
    "second = temp\n",
    "print('After swaping:', first, second)"
   ]
  },
  {
   "cell_type": "code",
   "execution_count": 19,
   "id": "dc8a10d0",
   "metadata": {},
   "outputs": [
    {
     "name": "stdout",
     "output_type": "stream",
     "text": [
      "Enter first variable: 10\n",
      "Enter second variable: 20\n",
      "Before swaping: 10 20\n",
      "After swaping: 20 10\n"
     ]
    }
   ],
   "source": [
    "first = input('Enter first variable: ')\n",
    "second = input('Enter second variable: ')\n",
    "print('Before swaping:', first, second)\n",
    "# temp = first\n",
    "first, second = second, first\n",
    "print('After swaping:', first, second)"
   ]
  },
  {
   "cell_type": "code",
   "execution_count": 20,
   "id": "d409a1a3",
   "metadata": {},
   "outputs": [
    {
     "name": "stdout",
     "output_type": "stream",
     "text": [
      "['hulululu', 'gwalior', 'indore', 'khandwa', 'New york city', 'singapore']\n"
     ]
    }
   ],
   "source": [
    "top_cities = ['New york city','gwalior','indore','khandwa','hulululu','singapore'] \n",
    "top_cities[0], top_cities[4] = top_cities[4], top_cities[0]\n",
    "print(top_cities)"
   ]
  },
  {
   "cell_type": "code",
   "execution_count": 24,
   "id": "7dceaddd",
   "metadata": {},
   "outputs": [
    {
     "name": "stdout",
     "output_type": "stream",
     "text": [
      "['Gwalior', 'Hulululu', 'Indore', 'Khandwa', 'New york city', 'Singapore']\n"
     ]
    }
   ],
   "source": [
    "top_cities = ['New york city','Gwalior','Indore','Khandwa','Hulululu','Singapore'] \n",
    "top_cities.sort()\n",
    "print(top_cities)"
   ]
  },
  {
   "cell_type": "code",
   "execution_count": 23,
   "id": "2757529b",
   "metadata": {},
   "outputs": [
    {
     "name": "stdout",
     "output_type": "stream",
     "text": [
      "[-3, 0, 2, 4, 5]\n"
     ]
    }
   ],
   "source": [
    "ran_num = [2, 5, 0, -3, 4]\n",
    "ran_num.sort()#method to change valuies\n",
    "print(ran_num)"
   ]
  },
  {
   "cell_type": "code",
   "execution_count": 25,
   "id": "ba8c02e9",
   "metadata": {},
   "outputs": [
    {
     "name": "stdout",
     "output_type": "stream",
     "text": [
      "[5, 4, 2, 0, -3]\n"
     ]
    }
   ],
   "source": [
    "ran_num = [2, 5, 0, -3, 4]\n",
    "ran_num.sort(reverse=True)\n",
    "print(ran_num)"
   ]
  },
  {
   "cell_type": "code",
   "execution_count": 26,
   "id": "73928e5c",
   "metadata": {},
   "outputs": [
    {
     "name": "stdout",
     "output_type": "stream",
     "text": [
      "['Gwalior', 'Hulululu', 'Indore', 'Khandwa', 'New york city', 'Singapore']\n",
      "['New york city', 'Gwalior', 'Indore', 'Khandwa', 'Hulululu', 'Singapore']\n"
     ]
    }
   ],
   "source": [
    "top_cities = ['New york city','Gwalior','Indore','Khandwa','Hulululu','Singapore'] \n",
    "print(sorted(top_cities))#sorting in place\n",
    "print(top_cities)"
   ]
  },
  {
   "cell_type": "code",
   "execution_count": 28,
   "id": "42a2ec40",
   "metadata": {},
   "outputs": [
    {
     "name": "stdout",
     "output_type": "stream",
     "text": [
      "h\n",
      "a\n",
      "p\n",
      "p\n",
      "y\n",
      " \n",
      "m\n",
      "e\n",
      "s\n",
      "s\n",
      "a\n",
      "g\n",
      "e\n"
     ]
    }
   ],
   "source": [
    "## LIST CHECKING PRESENCE\n",
    "for char in 'happy message':\n",
    "    print(char)"
   ]
  },
  {
   "cell_type": "code",
   "execution_count": 30,
   "id": "7918ebd0",
   "metadata": {},
   "outputs": [
    {
     "name": "stdout",
     "output_type": "stream",
     "text": [
      "what is your name? j\n",
      "get lost\n"
     ]
    }
   ],
   "source": [
    "invited_guest = ['kate', 'Adam', 'Kerry', 'Joe', 'Anne', 'Marie']\n",
    "name = input('what is your name? ')\n",
    "if name in invited_guest:\n",
    "    print('welcome')\n",
    "else:\n",
    "    print('get lost')"
   ]
  },
  {
   "cell_type": "code",
   "execution_count": 31,
   "id": "0257ee07",
   "metadata": {},
   "outputs": [
    {
     "name": "stdout",
     "output_type": "stream",
     "text": [
      "what is your name? kate\n",
      "welcome\n"
     ]
    }
   ],
   "source": [
    "invited_guest = ['kate', 'Adam', 'Kerry', 'Joe', 'Anne', 'Marie']\n",
    "name = input('what is your name? ')\n",
    "if name not in invited_guest:\n",
    "    print('get lost')\n",
    "else:\n",
    "    print('welcome')"
   ]
  },
  {
   "cell_type": "code",
   "execution_count": 32,
   "id": "c651160f",
   "metadata": {},
   "outputs": [
    {
     "name": "stdout",
     "output_type": "stream",
     "text": [
      "Denerys Targeryen jon snow\n"
     ]
    }
   ],
   "source": [
    "## COPING LIST\n",
    "original = \"jon snow\"\n",
    "new = original          ## watch again\n",
    "original = 'Denerys Targeryen'\n",
    "print(original,new)\n"
   ]
  },
  {
   "cell_type": "code",
   "execution_count": 33,
   "id": "25782b40",
   "metadata": {},
   "outputs": [
    {
     "name": "stdout",
     "output_type": "stream",
     "text": [
      "original:  [-5, 2, 3] \n",
      "New:  [-5, 2, 3]\n"
     ]
    }
   ],
   "source": [
    "original = [1, 2, 3]\n",
    "new = original\n",
    "original[0] = -5\n",
    "print('original: ', original, '\\nNew: ', new)"
   ]
  },
  {
   "cell_type": "code",
   "execution_count": 2,
   "id": "1f50ec74",
   "metadata": {},
   "outputs": [
    {
     "name": "stdout",
     "output_type": "stream",
     "text": [
      "original:  [-5, 2, 3] \n",
      "New:  [1, 2]\n"
     ]
    }
   ],
   "source": [
    "## name of the list in the member location where the list is stored in computer(referenc)\n",
    "##\n",
    "original = [1, 2, 3]\n",
    "new = original[:2]\n",
    "original[0] = -5\n",
    "print('original: ', original, '\\nNew: ', new)"
   ]
  },
  {
   "cell_type": "code",
   "execution_count": 3,
   "id": "1cfd20b6",
   "metadata": {},
   "outputs": [],
   "source": [
    "## LIST COMPREHRNSION\n",
    "NUMBER = [1, 2, 3, 4]\n"
   ]
  },
  {
   "cell_type": "code",
   "execution_count": 6,
   "id": "7ba304c4",
   "metadata": {},
   "outputs": [
    {
     "name": "stdout",
     "output_type": "stream",
     "text": [
      "[1, 2, 3, 4, 5, 6, 7, 8, 9, 10, 11, 12, 13, 14, 15, 16, 17, 18, 19, 20, 21, 22, 23, 24, 25, 26, 27, 28, 29, 30, 31, 32, 33, 34, 35, 36, 37, 38, 39, 40, 41, 42, 43, 44, 45, 46, 47, 48, 49, 50, 51, 52, 53, 54, 55, 56, 57, 58, 59, 60, 61, 62, 63, 64, 65, 66, 67, 68, 69, 70, 71, 72, 73, 74, 75, 76, 77, 78, 79, 80, 81, 82, 83, 84, 85, 86, 87, 88, 89, 90, 91, 92, 93, 94, 95, 96, 97, 98, 99, 100]\n"
     ]
    }
   ],
   "source": [
    "numbers = []\n",
    "for i in range(1, 101):\n",
    "    numbers.append(i)\n",
    "print(numbers)"
   ]
  },
  {
   "cell_type": "code",
   "execution_count": 8,
   "id": "2a67664e",
   "metadata": {},
   "outputs": [
    {
     "name": "stdout",
     "output_type": "stream",
     "text": [
      "[1, 2, 3, 4, 5, 6, 7, 8, 9, 10, 11, 12, 13, 14, 15, 16, 17, 18, 19, 20, 21, 22, 23, 24, 25, 26, 27, 28, 29, 30, 31, 32, 33, 34, 35, 36, 37, 38, 39, 40, 41, 42, 43, 44, 45, 46, 47, 48, 49, 50, 51, 52, 53, 54, 55, 56, 57, 58, 59, 60, 61, 62, 63, 64, 65, 66, 67, 68, 69, 70, 71, 72, 73, 74, 75, 76, 77, 78, 79, 80, 81, 82, 83, 84, 85, 86, 87, 88, 89, 90, 91, 92, 93, 94, 95, 96, 97, 98, 99, 100]\n"
     ]
    }
   ],
   "source": [
    "numbers = [i for i in range(1, 101)]\n",
    "print(numbers) ## watch again"
   ]
  },
  {
   "cell_type": "code",
   "execution_count": 9,
   "id": "12bea018",
   "metadata": {},
   "outputs": [
    {
     "name": "stdout",
     "output_type": "stream",
     "text": [
      "[1, 2, 4, 5, 7, 8, 10, 11, 13, 14, 16, 17, 19, 20, 22, 23, 25, 26, 28, 29, 31, 32, 34, 35, 37, 38, 40, 41, 43, 44, 46, 47, 49, 50, 52, 53, 55, 56, 58, 59, 61, 62, 64, 65, 67, 68, 70, 71, 73, 74, 76, 77, 79, 80, 82, 83, 85, 86, 88, 89, 91, 92, 94, 95, 97, 98, 100]\n"
     ]
    }
   ],
   "source": [
    "numbers = [i for i in range(1, 101) if i % 3 !=0]\n",
    "print(numbers)"
   ]
  },
  {
   "cell_type": "code",
   "execution_count": 11,
   "id": "ac538992",
   "metadata": {},
   "outputs": [],
   "source": [
    "num = [1,2,3,4]\n",
    "countries = ['UK','US']\n",
    "countries = ['1','UK','2','US']"
   ]
  },
  {
   "cell_type": "code",
   "execution_count": 12,
   "id": "69d1ec59",
   "metadata": {},
   "outputs": [],
   "source": [
    "cells = [['A1','A2','A3'],['B1','B2','B3']]"
   ]
  },
  {
   "cell_type": "code",
   "execution_count": 13,
   "id": "59a1ac7c",
   "metadata": {},
   "outputs": [
    {
     "data": {
      "text/plain": [
       "['A1', 'A2', 'A3']"
      ]
     },
     "execution_count": 13,
     "metadata": {},
     "output_type": "execute_result"
    }
   ],
   "source": [
    "cells[0]"
   ]
  },
  {
   "cell_type": "code",
   "execution_count": 15,
   "id": "ec3e78c2",
   "metadata": {},
   "outputs": [
    {
     "data": {
      "text/plain": [
       "'A1'"
      ]
     },
     "execution_count": 15,
     "metadata": {},
     "output_type": "execute_result"
    }
   ],
   "source": [
    "cells[0][0]"
   ]
  },
  {
   "cell_type": "code",
   "execution_count": 16,
   "id": "569abf03",
   "metadata": {},
   "outputs": [
    {
     "data": {
      "text/plain": [
       "'A2'"
      ]
     },
     "execution_count": 16,
     "metadata": {},
     "output_type": "execute_result"
    }
   ],
   "source": [
    "cells[0][1]"
   ]
  },
  {
   "cell_type": "code",
   "execution_count": 17,
   "id": "2e12432f",
   "metadata": {},
   "outputs": [
    {
     "name": "stdout",
     "output_type": "stream",
     "text": [
      "elements: ['A1', 'A2', 'A3']\n",
      "elements: ['B1', 'B2', 'B3']\n"
     ]
    }
   ],
   "source": [
    "cells = [['A1','A2','A3'],['B1','B2','B3']]\n",
    "for i in cells:\n",
    "    print('elements:',i)"
   ]
  },
  {
   "cell_type": "code",
   "execution_count": 19,
   "id": "d903b08c",
   "metadata": {},
   "outputs": [
    {
     "name": "stdout",
     "output_type": "stream",
     "text": [
      "elements: A1\n",
      "elements: A2\n",
      "elements: A3\n",
      "elements: B1\n",
      "elements: B2\n",
      "elements: B3\n"
     ]
    }
   ],
   "source": [
    "cells = [['A1','A2','A3'],['B1','B2','B3']]\n",
    "for i in cells:\n",
    "    for j in i:\n",
    "        print('elements:',j)"
   ]
  },
  {
   "cell_type": "code",
   "execution_count": 21,
   "id": "42fe37fc",
   "metadata": {},
   "outputs": [
    {
     "name": "stdout",
     "output_type": "stream",
     "text": [
      "A1 A2 A3 \n",
      "B1 B2 B3 \n"
     ]
    }
   ],
   "source": [
    "table = [['A1','A2','A3'],['B1','B2','B3']]\n",
    "for row in table:\n",
    "    for cell in row:\n",
    "        print(cell, '', end='')\n",
    "    print()"
   ]
  },
  {
   "cell_type": "code",
   "execution_count": 24,
   "id": "e9288da2",
   "metadata": {},
   "outputs": [
    {
     "name": "stdout",
     "output_type": "stream",
     "text": [
      "[1, 2, 3, 4, 5]\n"
     ]
    }
   ],
   "source": [
    "# 1 2 3 4 5 \n",
    "# 1 2 3 4 5\n",
    "# 1 2 3 4 5\n",
    "# 1 2 3 4 5\n",
    "\n",
    "table = [i for i in range(1, 6)]\n",
    "print(table)"
   ]
  },
  {
   "cell_type": "code",
   "execution_count": 30,
   "id": "577b84c0",
   "metadata": {},
   "outputs": [
    {
     "name": "stdout",
     "output_type": "stream",
     "text": [
      "[[1, 2, 3, 4, 5], [1, 2, 3, 4, 5], [1, 2, 3, 4, 5], [1, 2, 3, 4, 5]]\n"
     ]
    }
   ],
   "source": [
    "table = [ [i for i in range(1, 6)] for j in range(4)]\n",
    "print(table)"
   ]
  },
  {
   "cell_type": "code",
   "execution_count": 33,
   "id": "79f6104a",
   "metadata": {},
   "outputs": [
    {
     "name": "stdout",
     "output_type": "stream",
     "text": [
      "['Indore', 'Khandwa', 'Singapore', 'New york city', 'Gwalior', 'Indore']\n"
     ]
    }
   ],
   "source": [
    "## Adding and multiplication lists\n",
    "top_cities = ['Indore','Khandwa','Singapore'] \n",
    "top_cities2 = ['New york city','Gwalior','Indore']\n",
    "list_add = top_cities + top_cities2\n",
    "print(list_add)"
   ]
  },
  {
   "cell_type": "code",
   "execution_count": 34,
   "id": "d8757453",
   "metadata": {},
   "outputs": [
    {
     "ename": "TypeError",
     "evalue": "can't multiply sequence by non-int of type 'list'",
     "output_type": "error",
     "traceback": [
      "\u001b[1;31m---------------------------------------------------------------------------\u001b[0m",
      "\u001b[1;31mTypeError\u001b[0m                                 Traceback (most recent call last)",
      "\u001b[1;32m~\\AppData\\Local\\Temp/ipykernel_9828/3823384400.py\u001b[0m in \u001b[0;36m<module>\u001b[1;34m\u001b[0m\n\u001b[0;32m      1\u001b[0m \u001b[0mtop_cities\u001b[0m \u001b[1;33m=\u001b[0m \u001b[1;33m[\u001b[0m\u001b[1;34m'Indore'\u001b[0m\u001b[1;33m,\u001b[0m\u001b[1;34m'Khandwa'\u001b[0m\u001b[1;33m,\u001b[0m\u001b[1;34m'Singapore'\u001b[0m\u001b[1;33m]\u001b[0m\u001b[1;33m\u001b[0m\u001b[1;33m\u001b[0m\u001b[0m\n\u001b[0;32m      2\u001b[0m \u001b[0mtop_cities2\u001b[0m \u001b[1;33m=\u001b[0m \u001b[1;33m[\u001b[0m\u001b[1;34m'New york city'\u001b[0m\u001b[1;33m,\u001b[0m\u001b[1;34m'Gwalior'\u001b[0m\u001b[1;33m,\u001b[0m\u001b[1;34m'Indore'\u001b[0m\u001b[1;33m]\u001b[0m\u001b[1;33m\u001b[0m\u001b[1;33m\u001b[0m\u001b[0m\n\u001b[1;32m----> 3\u001b[1;33m \u001b[0mlist_add\u001b[0m \u001b[1;33m=\u001b[0m \u001b[0mtop_cities\u001b[0m \u001b[1;33m*\u001b[0m \u001b[0mtop_cities2\u001b[0m\u001b[1;33m\u001b[0m\u001b[1;33m\u001b[0m\u001b[0m\n\u001b[0m\u001b[0;32m      4\u001b[0m \u001b[0mprint\u001b[0m\u001b[1;33m(\u001b[0m\u001b[0mlist_add\u001b[0m\u001b[1;33m)\u001b[0m\u001b[1;33m\u001b[0m\u001b[1;33m\u001b[0m\u001b[0m\n",
      "\u001b[1;31mTypeError\u001b[0m: can't multiply sequence by non-int of type 'list'"
     ]
    }
   ],
   "source": [
    "top_cities = ['Indore','Khandwa','Singapore'] \n",
    "top_cities2 = ['New york city','Gwalior','Indore']\n",
    "list_add = top_cities * top_cities2\n",
    "print(list_add)"
   ]
  },
  {
   "cell_type": "code",
   "execution_count": 35,
   "id": "c5a156d7",
   "metadata": {},
   "outputs": [
    {
     "name": "stdout",
     "output_type": "stream",
     "text": [
      "[0, 10, 0, 10, 0, 10, 0, 10, 0, 10, 0, 10, 0, 10, 0, 10, 0, 10, 0, 10]\n"
     ]
    }
   ],
   "source": [
    "num = [0, 10] * 10\n",
    "print(num)"
   ]
  },
  {
   "cell_type": "code",
   "execution_count": null,
   "id": "0490139b",
   "metadata": {},
   "outputs": [],
   "source": [
    "##"
   ]
  }
 ],
 "metadata": {
  "kernelspec": {
   "display_name": "Python 3 (ipykernel)",
   "language": "python",
   "name": "python3"
  },
  "language_info": {
   "codemirror_mode": {
    "name": "ipython",
    "version": 3
   },
   "file_extension": ".py",
   "mimetype": "text/x-python",
   "name": "python",
   "nbconvert_exporter": "python",
   "pygments_lexer": "ipython3",
   "version": "3.9.7"
  }
 },
 "nbformat": 4,
 "nbformat_minor": 5
}
