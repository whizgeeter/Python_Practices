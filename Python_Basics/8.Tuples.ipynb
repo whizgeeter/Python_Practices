{
 "cells": [
  {
   "cell_type": "code",
   "execution_count": 1,
   "id": "4f1a71e2",
   "metadata": {},
   "outputs": [],
   "source": [
    "## Tuple : can have same or different data type\n",
    "empty_tuple = ()"
   ]
  },
  {
   "cell_type": "code",
   "execution_count": 2,
   "id": "0cea455f",
   "metadata": {},
   "outputs": [],
   "source": [
    "one1_tuple_a = (1,)"
   ]
  },
  {
   "cell_type": "code",
   "execution_count": 3,
   "id": "fa8f0cb3",
   "metadata": {},
   "outputs": [],
   "source": [
    "one1_tuple_b = 1,"
   ]
  },
  {
   "cell_type": "code",
   "execution_count": 9,
   "id": "d5497783",
   "metadata": {},
   "outputs": [],
   "source": [
    "three_e1_tuple = 1, 2, 3,"
   ]
  },
  {
   "cell_type": "code",
   "execution_count": 10,
   "id": "3a46bf00",
   "metadata": {},
   "outputs": [
    {
     "name": "stdout",
     "output_type": "stream",
     "text": [
      "(1, 2, 3)\n"
     ]
    }
   ],
   "source": [
    "print(three_e1_tuple)"
   ]
  },
  {
   "cell_type": "code",
   "execution_count": 6,
   "id": "1789831f",
   "metadata": {},
   "outputs": [],
   "source": [
    "## MUTABLE = CAN FREELY UPDATE ANY TIME EG; LIST"
   ]
  },
  {
   "cell_type": "code",
   "execution_count": 7,
   "id": "c28afed3",
   "metadata": {},
   "outputs": [],
   "source": [
    "## TUPLE IS IMMUTABLE:\n",
    "user_data = ('john', 'American', 1964)"
   ]
  },
  {
   "cell_type": "code",
   "execution_count": 8,
   "id": "620ff078",
   "metadata": {},
   "outputs": [],
   "source": [
    "user_data = ('Katya', 'Russian', 1980)"
   ]
  },
  {
   "cell_type": "code",
   "execution_count": 11,
   "id": "90f0fa72",
   "metadata": {},
   "outputs": [],
   "source": [
    "# user_data.append() not work\n",
    "# del also not work\n",
    "# doesnt suppport item assignment\n",
    "# string are immutable\n"
   ]
  },
  {
   "cell_type": "code",
   "execution_count": 12,
   "id": "61b0abee",
   "metadata": {},
   "outputs": [
    {
     "name": "stdout",
     "output_type": "stream",
     "text": [
      "3\n"
     ]
    }
   ],
   "source": [
    "## tuple operations\n",
    "user_data = ('Katya', 'Russian', 1980)\n",
    "print(len(user_data))"
   ]
  },
  {
   "cell_type": "code",
   "execution_count": 13,
   "id": "5a1f8a68",
   "metadata": {},
   "outputs": [
    {
     "name": "stdout",
     "output_type": "stream",
     "text": [
      "Katya\n",
      "Russian\n",
      "1980\n"
     ]
    }
   ],
   "source": [
    "user_data = ('Katya', 'Russian', 1980)\n",
    "# print(len(user_data))\n",
    "for element in user_data:\n",
    "    print(element)"
   ]
  },
  {
   "cell_type": "code",
   "execution_count": 17,
   "id": "ee9aeb17",
   "metadata": {},
   "outputs": [
    {
     "name": "stdout",
     "output_type": "stream",
     "text": [
      "this person come from katya\n"
     ]
    }
   ],
   "source": [
    "user_data = ('Katya', 'Russian', 1980)\n",
    "if 'Katya' in user_data:\n",
    "    print('this person come from katya')"
   ]
  },
  {
   "cell_type": "code",
   "execution_count": 20,
   "id": "994b7a0f",
   "metadata": {},
   "outputs": [
    {
     "name": "stdout",
     "output_type": "stream",
     "text": [
      "('Katya', 'Russian', 1980, 'teacher')\n"
     ]
    }
   ],
   "source": [
    "user_data = ('Katya', 'Russian', 1980) + ('teacher',)\n",
    "print(user_data)"
   ]
  },
  {
   "cell_type": "code",
   "execution_count": 21,
   "id": "412ad78e",
   "metadata": {},
   "outputs": [
    {
     "name": "stdout",
     "output_type": "stream",
     "text": [
      "(0, 1, 0, 1, 0, 1, 0, 1, 0, 1, 0, 1, 0, 1, 0, 1, 0, 1, 0, 1)\n"
     ]
    }
   ],
   "source": [
    "num = (0,1) * 10\n",
    "print(num)"
   ]
  },
  {
   "cell_type": "code",
   "execution_count": 22,
   "id": "74e843a3",
   "metadata": {},
   "outputs": [],
   "source": [
    "## when list when tuple\n",
    "## list : use when many value of same data type (same class,same phenomenon)\n",
    "# eg: name = ['adam', 'jerry']\n",
    "## tuple : use when you want to group diffrent data type in one element\n"
   ]
  },
  {
   "cell_type": "code",
   "execution_count": 24,
   "id": "db597ded",
   "metadata": {},
   "outputs": [
    {
     "name": "stdout",
     "output_type": "stream",
     "text": [
      "7 5\n"
     ]
    }
   ],
   "source": [
    "first = 5\n",
    "second = 7\n",
    "first, second = second, first\n",
    "print(first,second)\n",
    "# tuple can be right side and also left side of assignment operator"
   ]
  },
  {
   "cell_type": "code",
   "execution_count": 25,
   "id": "37af9e6d",
   "metadata": {},
   "outputs": [],
   "source": [
    "##### TUPLE IN LIST\n",
    "\n",
    "city_1 = ('london', 'UK', 8.98)\n",
    "city_2 = ('Canberra', 'Australia', 0.4)\n",
    "city_3 = ('Algeries', 'Algeria', 3.9)\n"
   ]
  },
  {
   "cell_type": "code",
   "execution_count": 26,
   "id": "1835d146",
   "metadata": {},
   "outputs": [],
   "source": [
    "capitals = [('london', 'UK', 8.98),('Canberra', 'Australia', 0.4),('Algeries', 'Algeria', 3.9)]"
   ]
  },
  {
   "cell_type": "code",
   "execution_count": 27,
   "id": "1d9505c4",
   "metadata": {},
   "outputs": [
    {
     "name": "stdout",
     "output_type": "stream",
     "text": [
      "Name: london ,country: UK ,population: 8.98\n",
      "Name: Canberra ,country: Australia ,population: 0.4\n",
      "Name: Algeries ,country: Algeria ,population: 3.9\n"
     ]
    }
   ],
   "source": [
    "for capital in capitals:\n",
    "    print('Name:', capital[0], ',country:', capital[1], ',population:', capital[2])"
   ]
  },
  {
   "cell_type": "code",
   "execution_count": 28,
   "id": "0d6cda4e",
   "metadata": {},
   "outputs": [],
   "source": [
    "user_data = ('John', 'America', 1964, [77.0, 78.2, 77.5])"
   ]
  },
  {
   "cell_type": "code",
   "execution_count": 29,
   "id": "5ef12a50",
   "metadata": {},
   "outputs": [],
   "source": [
    "user_data[3].append(79.6)"
   ]
  },
  {
   "cell_type": "code",
   "execution_count": null,
   "id": "97b94668",
   "metadata": {},
   "outputs": [],
   "source": []
  }
 ],
 "metadata": {
  "kernelspec": {
   "display_name": "Python 3 (ipykernel)",
   "language": "python",
   "name": "python3"
  },
  "language_info": {
   "codemirror_mode": {
    "name": "ipython",
    "version": 3
   },
   "file_extension": ".py",
   "mimetype": "text/x-python",
   "name": "python",
   "nbconvert_exporter": "python",
   "pygments_lexer": "ipython3",
   "version": "3.9.7"
  }
 },
 "nbformat": 4,
 "nbformat_minor": 5
}
