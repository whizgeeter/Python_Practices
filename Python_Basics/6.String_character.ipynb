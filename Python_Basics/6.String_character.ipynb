{
 "cells": [
  {
   "cell_type": "code",
   "execution_count": 1,
   "id": "bd5b821f",
   "metadata": {},
   "outputs": [
    {
     "name": "stdout",
     "output_type": "stream",
     "text": [
      "D\n"
     ]
    }
   ],
   "source": [
    "fav_band = 'Green Day'\n",
    "print(fav_band[6])"
   ]
  },
  {
   "cell_type": "code",
   "execution_count": 2,
   "id": "178a609a",
   "metadata": {},
   "outputs": [
    {
     "name": "stdout",
     "output_type": "stream",
     "text": [
      "Green \n"
     ]
    }
   ],
   "source": [
    "print(fav_band[:6])"
   ]
  },
  {
   "cell_type": "code",
   "execution_count": 3,
   "id": "2b49e918",
   "metadata": {},
   "outputs": [
    {
     "ename": "TypeError",
     "evalue": "'str' object does not support item assignment",
     "output_type": "error",
     "traceback": [
      "\u001b[1;31m---------------------------------------------------------------------------\u001b[0m",
      "\u001b[1;31mTypeError\u001b[0m                                 Traceback (most recent call last)",
      "\u001b[1;32m~\\AppData\\Local\\Temp/ipykernel_9352/3188616751.py\u001b[0m in \u001b[0;36m<module>\u001b[1;34m\u001b[0m\n\u001b[1;32m----> 1\u001b[1;33m \u001b[0mfav_band\u001b[0m\u001b[1;33m[\u001b[0m\u001b[1;36m6\u001b[0m\u001b[1;33m]\u001b[0m \u001b[1;33m=\u001b[0m \u001b[1;34m'M'\u001b[0m\u001b[1;33m\u001b[0m\u001b[1;33m\u001b[0m\u001b[0m\n\u001b[0m",
      "\u001b[1;31mTypeError\u001b[0m: 'str' object does not support item assignment"
     ]
    }
   ],
   "source": [
    "fav_band[6] = 'M'"
   ]
  },
  {
   "cell_type": "code",
   "execution_count": 4,
   "id": "29160d70",
   "metadata": {},
   "outputs": [
    {
     "name": "stdout",
     "output_type": "stream",
     "text": [
      "PLEASE CAPITALISE ME\n"
     ]
    }
   ],
   "source": [
    "text = 'Please capitalise me'\n",
    "text_cap = text.upper()\n",
    "print(text_cap)"
   ]
  },
  {
   "cell_type": "code",
   "execution_count": 5,
   "id": "7a2dfe86",
   "metadata": {},
   "outputs": [
    {
     "name": "stdout",
     "output_type": "stream",
     "text": [
      "please capitalise me\n"
     ]
    }
   ],
   "source": [
    "text = 'PLEASE CAPITALISE ME'\n",
    "text_cap = text.lower()\n",
    "print(text_cap)"
   ]
  },
  {
   "cell_type": "code",
   "execution_count": 7,
   "id": "1debe173",
   "metadata": {},
   "outputs": [
    {
     "name": "stdout",
     "output_type": "stream",
     "text": [
      "Please provide a number: a\n",
      "sorry a is not a num\n"
     ]
    }
   ],
   "source": [
    "user_num = input('Please provide a number: ')\n",
    "if user_num.isnumeric():\n",
    "    print('Thank you, that\\'s a correct number!')\n",
    "else:\n",
    "    print('sorry',user_num, 'is not a num')"
   ]
  },
  {
   "cell_type": "code",
   "execution_count": 1,
   "id": "6a4302d8",
   "metadata": {},
   "outputs": [
    {
     "ename": "NameError",
     "evalue": "name 'islower' is not defined",
     "output_type": "error",
     "traceback": [
      "\u001b[1;31m---------------------------------------------------------------------------\u001b[0m",
      "\u001b[1;31mNameError\u001b[0m                                 Traceback (most recent call last)",
      "\u001b[1;32m~\\AppData\\Local\\Temp/ipykernel_10844/2795572513.py\u001b[0m in \u001b[0;36m<module>\u001b[1;34m\u001b[0m\n\u001b[1;32m----> 1\u001b[1;33m \u001b[0mislower\u001b[0m\u001b[1;33m(\u001b[0m\u001b[1;33m)\u001b[0m\u001b[1;33m\u001b[0m\u001b[1;33m\u001b[0m\u001b[0m\n\u001b[0m",
      "\u001b[1;31mNameError\u001b[0m: name 'islower' is not defined"
     ]
    }
   ],
   "source": [
    "islower()"
   ]
  },
  {
   "cell_type": "code",
   "execution_count": 2,
   "id": "79f6181c",
   "metadata": {},
   "outputs": [],
   "source": [
    "#############################################################################################################"
   ]
  },
  {
   "cell_type": "code",
   "execution_count": null,
   "id": "9530a859",
   "metadata": {},
   "outputs": [],
   "source": []
  }
 ],
 "metadata": {
  "kernelspec": {
   "display_name": "Python 3 (ipykernel)",
   "language": "python",
   "name": "python3"
  },
  "language_info": {
   "codemirror_mode": {
    "name": "ipython",
    "version": 3
   },
   "file_extension": ".py",
   "mimetype": "text/x-python",
   "name": "python",
   "nbconvert_exporter": "python",
   "pygments_lexer": "ipython3",
   "version": "3.9.7"
  }
 },
 "nbformat": 4,
 "nbformat_minor": 5
}
