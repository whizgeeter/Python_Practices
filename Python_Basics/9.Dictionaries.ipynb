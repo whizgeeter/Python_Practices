{
 "cells": [
  {
   "cell_type": "code",
   "execution_count": 1,
   "id": "3abb9a30",
   "metadata": {},
   "outputs": [],
   "source": [
    "## DICTIONARY ARE USED TO STORE KEY VALUE PAIR\n"
   ]
  },
  {
   "cell_type": "code",
   "execution_count": 2,
   "id": "88014a70",
   "metadata": {},
   "outputs": [],
   "source": [
    "emails = {\n",
    "    'Anne': 'anne@gmail.com',\n",
    "    'many': 'anne@gmail.com',\n",
    "    'sunny': 'anne@gmail.com',\n",
    "}"
   ]
  },
  {
   "cell_type": "code",
   "execution_count": 3,
   "id": "b335854b",
   "metadata": {},
   "outputs": [
    {
     "name": "stdout",
     "output_type": "stream",
     "text": [
      "anne@gmail.com\n"
     ]
    }
   ],
   "source": [
    "print(emails['Anne'])"
   ]
  },
  {
   "cell_type": "code",
   "execution_count": 5,
   "id": "93ead98e",
   "metadata": {},
   "outputs": [],
   "source": [
    "spanish_animals = {\n",
    "    'dog': 'el perro',\n",
    "    'cat': 'el gato',\n",
    "    'horse': 'el caballo',\n",
    "    'bird': 'el pajaro'\n",
    "}"
   ]
  },
  {
   "cell_type": "code",
   "execution_count": 8,
   "id": "49c33c46",
   "metadata": {},
   "outputs": [
    {
     "name": "stdout",
     "output_type": "stream",
     "text": [
      "el pajaro\n"
     ]
    }
   ],
   "source": [
    "print(spanish_animals['bird'])"
   ]
  },
  {
   "cell_type": "code",
   "execution_count": 9,
   "id": "9f6dcb29",
   "metadata": {},
   "outputs": [
    {
     "name": "stdout",
     "output_type": "stream",
     "text": [
      "{'dog': 'el perro', 'cat': 'el gato', 'horse': 'el caballo', 'bird': 'el pajaro'}\n"
     ]
    }
   ],
   "source": [
    "print(spanish_animals)"
   ]
  },
  {
   "cell_type": "code",
   "execution_count": 13,
   "id": "0757c8f7",
   "metadata": {},
   "outputs": [],
   "source": [
    "## DICTIONARY OPERATION\n",
    "grades = {}\n"
   ]
  },
  {
   "cell_type": "code",
   "execution_count": 14,
   "id": "2bbcdfc2",
   "metadata": {},
   "outputs": [
    {
     "name": "stdout",
     "output_type": "stream",
     "text": [
      "{'John': 'A-', 'Anne': 'B'}\n"
     ]
    }
   ],
   "source": [
    "grades['John'] = 'A-'\n",
    "grades['Anne'] = 'B'\n",
    "print(grades)\n"
   ]
  },
  {
   "cell_type": "code",
   "execution_count": 15,
   "id": "8d2ab410",
   "metadata": {},
   "outputs": [],
   "source": [
    "grades['Anne'] = 'A'"
   ]
  },
  {
   "cell_type": "code",
   "execution_count": 16,
   "id": "cc380c31",
   "metadata": {},
   "outputs": [
    {
     "name": "stdout",
     "output_type": "stream",
     "text": [
      "{'John': 'A-', 'Anne': 'A'}\n"
     ]
    }
   ],
   "source": [
    "print(grades)"
   ]
  },
  {
   "cell_type": "code",
   "execution_count": 17,
   "id": "6f0726bd",
   "metadata": {},
   "outputs": [],
   "source": [
    "grades.update({'John':'A'})"
   ]
  },
  {
   "cell_type": "code",
   "execution_count": 18,
   "id": "1b6f3fed",
   "metadata": {},
   "outputs": [
    {
     "name": "stdout",
     "output_type": "stream",
     "text": [
      "{'John': 'A', 'Anne': 'A'}\n"
     ]
    }
   ],
   "source": [
    "print(grades)"
   ]
  },
  {
   "cell_type": "code",
   "execution_count": 19,
   "id": "4e3b2e12",
   "metadata": {},
   "outputs": [
    {
     "data": {
      "text/plain": [
       "2"
      ]
     },
     "execution_count": 19,
     "metadata": {},
     "output_type": "execute_result"
    }
   ],
   "source": [
    "len(grades)"
   ]
  },
  {
   "cell_type": "code",
   "execution_count": 25,
   "id": "2ec3af14",
   "metadata": {},
   "outputs": [
    {
     "name": "stdout",
     "output_type": "stream",
     "text": [
      "john got : A\n"
     ]
    }
   ],
   "source": [
    "if 'John' in grades:\n",
    "    print('john got :', grades['John'])"
   ]
  },
  {
   "cell_type": "code",
   "execution_count": 26,
   "id": "0f802430",
   "metadata": {},
   "outputs": [],
   "source": [
    "del grades['John']"
   ]
  },
  {
   "cell_type": "code",
   "execution_count": 27,
   "id": "60ef8647",
   "metadata": {},
   "outputs": [
    {
     "name": "stdout",
     "output_type": "stream",
     "text": [
      "{'Anne': 'A'}\n"
     ]
    }
   ],
   "source": [
    "print(grades)"
   ]
  },
  {
   "cell_type": "code",
   "execution_count": 28,
   "id": "c254163a",
   "metadata": {},
   "outputs": [],
   "source": [
    "## ITERATE DICTIONARY\n",
    "grades = {}\n",
    "grades['John'] = 'A-'\n",
    "grades['Anne'] = 'B'"
   ]
  },
  {
   "cell_type": "code",
   "execution_count": 29,
   "id": "85f4e5d0",
   "metadata": {},
   "outputs": [
    {
     "name": "stdout",
     "output_type": "stream",
     "text": [
      "John\n",
      "Anne\n"
     ]
    }
   ],
   "source": [
    "for e1 in grades:\n",
    "    print(e1)"
   ]
  },
  {
   "cell_type": "code",
   "execution_count": 30,
   "id": "89402ced",
   "metadata": {},
   "outputs": [
    {
     "name": "stdout",
     "output_type": "stream",
     "text": [
      "John\n",
      "Anne\n"
     ]
    }
   ],
   "source": [
    "for el in grades.keys():\n",
    "    print(el)"
   ]
  },
  {
   "cell_type": "code",
   "execution_count": 31,
   "id": "cbe537c8",
   "metadata": {},
   "outputs": [
    {
     "name": "stdout",
     "output_type": "stream",
     "text": [
      "A-\n",
      "B\n"
     ]
    }
   ],
   "source": [
    "for el in grades.values():\n",
    "    print(el)"
   ]
  },
  {
   "cell_type": "code",
   "execution_count": null,
   "id": "6681dc65",
   "metadata": {},
   "outputs": [],
   "source": [
    "for person, grades in grade.items()"
   ]
  }
 ],
 "metadata": {
  "kernelspec": {
   "display_name": "Python 3 (ipykernel)",
   "language": "python",
   "name": "python3"
  },
  "language_info": {
   "codemirror_mode": {
    "name": "ipython",
    "version": 3
   },
   "file_extension": ".py",
   "mimetype": "text/x-python",
   "name": "python",
   "nbconvert_exporter": "python",
   "pygments_lexer": "ipython3",
   "version": "3.9.7"
  }
 },
 "nbformat": 4,
 "nbformat_minor": 5
}
